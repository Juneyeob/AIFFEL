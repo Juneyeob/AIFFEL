{
  "nbformat": 4,
  "nbformat_minor": 0,
  "metadata": {
    "colab": {
      "name": "[E-05]rock,scissor,paper.ipynb",
      "provenance": [],
      "collapsed_sections": []
    },
    "kernelspec": {
      "name": "python3",
      "display_name": "Python 3"
    },
    "language_info": {
      "name": "python"
    }
  },
  "cells": [
    {
      "cell_type": "markdown",
      "source": [
        "# **인공지능과 가위바위보 하기**"
      ],
      "metadata": {
        "id": "eDDmrmBdIbiq"
      }
    },
    {
      "cell_type": "code",
      "source": [
        "!pip install pillow\n",
        "!ls"
      ],
      "metadata": {
        "colab": {
          "base_uri": "https://localhost:8080/"
        },
        "id": "WmqY-XyVNHYl",
        "outputId": "2dd4e98e-8ce5-4dc2-9bb8-4a49b020ece2"
      },
      "execution_count": 4,
      "outputs": [
        {
          "output_type": "stream",
          "name": "stdout",
          "text": [
            "Requirement already satisfied: pillow in /usr/local/lib/python3.7/dist-packages (7.1.2)\n",
            "drive  sample_data\n"
          ]
        }
      ]
    },
    {
      "cell_type": "code",
      "source": [
        "from PIL import Image\n",
        "import os, glob\n",
        "import numpy as np\n"
      ],
      "metadata": {
        "id": "iveo98ETPpnW"
      },
      "execution_count": 5,
      "outputs": []
    },
    {
      "cell_type": "markdown",
      "source": [
        "**데이터 준비 및 전처리**"
      ],
      "metadata": {
        "id": "mbdOHXrGIezk"
      }
    },
    {
      "cell_type": "code",
      "execution_count": 6,
      "metadata": {
        "id": "cKvEXuW0LVyH",
        "colab": {
          "base_uri": "https://localhost:8080/"
        },
        "outputId": "9ef07335-9851-4736-a392-4a363fc4ea39"
      },
      "outputs": [
        {
          "output_type": "stream",
          "name": "stdout",
          "text": [
            "Drive already mounted at /content/drive; to attempt to forcibly remount, call drive.mount(\"/content/drive\", force_remount=True).\n",
            "이미지 디렉토리 경로:  /content/drive/MyDrive/코드 및 데이터파일/rock_scissor_paper/scissor\n"
          ]
        }
      ],
      "source": [
        "from google.colab import drive\n",
        "drive.mount('/content/drive')\n",
        "\n",
        "# 가위 이미지를 28x28로 사이즈 조정\n",
        "image_dir_path = \"/content/drive/MyDrive/코드 및 데이터파일/rock_scissor_paper/scissor\"\n",
        "print(\"이미지 디렉토리 경로: \", image_dir_path)\n",
        "\n",
        "images=glob.glob(image_dir_path + \"/*.jpg\")  \n",
        "\n",
        "target_size=(28,28)\n",
        "for img in images:\n",
        "    old_img=Image.open(img)\n",
        "    new_img=old_img.resize(target_size,Image.ANTIALIAS)\n",
        "    new_img.save(img,\"JPEG\")\n",
        "\n",
        "# 바위 이미지를 28x28로 사이즈 조정\n",
        "rock_dir_path = \"/content/drive/MyDrive/코드 및 데이터파일/rock_scissor_paper/rock\"\n",
        "rock_images = glob.glob(rock_dir_path + \"/*.jpg\")\n",
        "\n",
        "target_size=(28,28)\n",
        "for img in rock_images:\n",
        "    old_img = Image.open(img)\n",
        "    new_img = old_img.resize(target_size, Image.ANTIALIAS)\n",
        "    new_img.save(img, \"JPEG\")\n",
        "\n",
        "\n",
        "# 보 이미지를 28x28로 사이즈 조정\n",
        "paper_dir_path = \"/content/drive/MyDrive/코드 및 데이터파일/rock_scissor_paper/paper\"\n",
        "paper_images = glob.glob(paper_dir_path + \"/*.jpg\")\n",
        "\n",
        "target_size = (28,28)\n",
        "for img in paper_images:\n",
        "    old_img = Image.open(img)\n",
        "    new_img = old_img.resize(target_size, Image.ANTIALIAS)\n",
        "    new_img.save(img, \"JPEG\")"
      ]
    },
    {
      "cell_type": "code",
      "source": [
        "from sklearn.model_selection import train_test_split\n",
        "def load_data(img_path):\n",
        "    # 가위 : 0, 바위 : 1, 보 : 2\n",
        "    number_of_data=6900   # 각 2300의 이미지 활용.\n",
        "    img_size=28\n",
        "    color=3\n",
        "    #matrix 영역 생성\n",
        "    imgs=np.zeros(number_of_data*img_size*img_size*color, dtype=np.int32).reshape(number_of_data, img_size, img_size, color)\n",
        "    labels=np.zeros(number_of_data, dtype=np.int32)\n",
        "\n",
        "    idx=0\n",
        "    for file in glob.iglob(img_path+'/scissor/*.jpg'):\n",
        "        img = np.array(Image.open(file), dtype=np.int32)\n",
        "        imgs[idx,:,:,:]=img  \n",
        "        labels[idx]=0   # 가위 : 0\n",
        "        idx=idx+1\n",
        "\n",
        "    for file in glob.iglob(img_path+'/rock/*.jpg'):\n",
        "        img = np.array(Image.open(file),dtype=np.int32)\n",
        "        imgs[idx,:,:,:]=img  \n",
        "        labels[idx]=1   # 바위 : 1\n",
        "        idx=idx+1       \n",
        "    \n",
        "    for file in glob.iglob(img_path+'/paper/*.jpg'):\n",
        "        img = np.array(Image.open(file),dtype=np.int32)\n",
        "        imgs[idx,:,:,:]=img   \n",
        "        labels[idx]=2   # 보 : 2\n",
        "        idx=idx+1\n",
        "        \n",
        "    print(\"학습데이터(x_train)의 이미지 개수는\",idx,\"입니다.\")\n",
        "    return imgs, labels\n",
        "\n",
        "image_dir_path = \"/content/drive/MyDrive/코드 및 데이터파일/rock_scissor_paper/\"\n",
        "x, y = load_data(image_dir_path)\n",
        "x_train, x_test, y_train, y_test = train_test_split(x, y, test_size=0.2, shuffle=True)\n",
        "x_train_norm = x_train/255.0   # 입력은 0~1 사이의 값으로 정규화\n",
        "\n",
        "print(\"x_train shape: {}\".format(x_train.shape))\n",
        "print(\"y_train shape: {}\".format(y_train.shape))\n",
        "print(\"x_test shape: {}\".format(x_test.shape))\n",
        "print(\"y_test shape: {}\".format(y_test.shape))"
      ],
      "metadata": {
        "colab": {
          "base_uri": "https://localhost:8080/"
        },
        "id": "OAv11vWIwqKH",
        "outputId": "ac4bd054-5e89-40ec-8b1a-1c1430f8b8ee"
      },
      "execution_count": 18,
      "outputs": [
        {
          "output_type": "stream",
          "name": "stdout",
          "text": [
            "학습데이터(x_train)의 이미지 개수는 6900 입니다.\n",
            "x_train shape: (5520, 28, 28, 3)\n",
            "y_train shape: (5520,)\n",
            "x_test shape: (1380, 28, 28, 3)\n",
            "y_test shape: (1380,)\n"
          ]
        }
      ]
    },
    {
      "cell_type": "code",
      "source": [
        "import matplotlib.pyplot as plt\n",
        "plt.imshow(x_train[0])\n",
        "print('라벨 : ', y_train[0])"
      ],
      "metadata": {
        "colab": {
          "base_uri": "https://localhost:8080/",
          "height": 283
        },
        "id": "CmIOUJdU4X_m",
        "outputId": "16be0646-e6d3-4f4e-c060-3923fb235a38"
      },
      "execution_count": 19,
      "outputs": [
        {
          "output_type": "stream",
          "name": "stdout",
          "text": [
            "라벨 :  2\n"
          ]
        },
        {
          "output_type": "display_data",
          "data": {
            "text/plain": [
              "<Figure size 432x288 with 1 Axes>"
            ],
            "image/png": "[encoded data removed]"
          },
          "metadata": {
            "needs_background": "light"
          }
        }
      ]
    },
    {
      "cell_type": "markdown",
      "source": [
        "**모델 설계하기**"
      ],
      "metadata": {
        "id": "pa5rrwgHQS7J"
      }
    },
    {
      "cell_type": "code",
      "source": [
        "import tensorflow as tf\n",
        "from tensorflow import keras\n",
        "import numpy as np\n",
        "\n",
        "model = keras.models.Sequential()\n",
        "model.add(keras.layers.Conv2D(64, (3,3), activation='relu', input_shape=(28,28,3)))\n",
        "model.add(keras.layers.MaxPool2D(2,2))\n",
        "model.add(keras.layers.Conv2D(128, (3,3), activation='relu'))\n",
        "model.add(keras.layers.MaxPool2D(2,2))\n",
        "model.add(keras.layers.Flatten())\n",
        "model.add(keras.layers.Dense(64, activation='relu'))\n",
        "model.add(keras.layers.Dense(3, activation='softmax'))\n",
        "\n",
        "\n",
        "model.summary()"
      ],
      "metadata": {
        "colab": {
          "base_uri": "https://localhost:8080/"
        },
        "id": "mQ1SzJpcQXyt",
        "outputId": "8fbf4641-e077-4277-ba50-1af6d4bf9a63"
      },
      "execution_count": 20,
      "outputs": [
        {
          "output_type": "stream",
          "name": "stdout",
          "text": [
            "Model: \"sequential_4\"\n",
            "_________________________________________________________________\n",
            " Layer (type)                Output Shape              Param #   \n",
            "=================================================================\n",
            " conv2d_8 (Conv2D)           (None, 26, 26, 64)        1792      \n",
            "                                                                 \n",
            " max_pooling2d_8 (MaxPooling  (None, 13, 13, 64)       0         \n",
            " 2D)                                                             \n",
            "                                                                 \n",
            " conv2d_9 (Conv2D)           (None, 11, 11, 128)       73856     \n",
            "                                                                 \n",
            " max_pooling2d_9 (MaxPooling  (None, 5, 5, 128)        0         \n",
            " 2D)                                                             \n",
            "                                                                 \n",
            " flatten_4 (Flatten)         (None, 3200)              0         \n",
            "                                                                 \n",
            " dense_8 (Dense)             (None, 64)                204864    \n",
            "                                                                 \n",
            " dense_9 (Dense)             (None, 3)                 195       \n",
            "                                                                 \n",
            "=================================================================\n",
            "Total params: 280,707\n",
            "Trainable params: 280,707\n",
            "Non-trainable params: 0\n",
            "_________________________________________________________________\n"
          ]
        }
      ]
    },
    {
      "cell_type": "code",
      "source": [
        "model.summary()"
      ],
      "metadata": {
        "colab": {
          "base_uri": "https://localhost:8080/"
        },
        "id": "AjJ3UOwiQgwU",
        "outputId": "921a5927-eef5-4e2a-8293-9c50a796a01c"
      },
      "execution_count": 21,
      "outputs": [
        {
          "output_type": "stream",
          "name": "stdout",
          "text": [
            "Model: \"sequential_4\"\n",
            "_________________________________________________________________\n",
            " Layer (type)                Output Shape              Param #   \n",
            "=================================================================\n",
            " conv2d_8 (Conv2D)           (None, 26, 26, 64)        1792      \n",
            "                                                                 \n",
            " max_pooling2d_8 (MaxPooling  (None, 13, 13, 64)       0         \n",
            " 2D)                                                             \n",
            "                                                                 \n",
            " conv2d_9 (Conv2D)           (None, 11, 11, 128)       73856     \n",
            "                                                                 \n",
            " max_pooling2d_9 (MaxPooling  (None, 5, 5, 128)        0         \n",
            " 2D)                                                             \n",
            "                                                                 \n",
            " flatten_4 (Flatten)         (None, 3200)              0         \n",
            "                                                                 \n",
            " dense_8 (Dense)             (None, 64)                204864    \n",
            "                                                                 \n",
            " dense_9 (Dense)             (None, 3)                 195       \n",
            "                                                                 \n",
            "=================================================================\n",
            "Total params: 280,707\n",
            "Trainable params: 280,707\n",
            "Non-trainable params: 0\n",
            "_________________________________________________________________\n"
          ]
        }
      ]
    },
    {
      "cell_type": "code",
      "source": [
        "model.compile(optimizer = 'adam',\n",
        "             loss = 'sparse_categorical_crossentropy',\n",
        "             metrics = ['accuracy'])\n",
        "\n",
        "model.fit(x_train_norm, y_train, epochs=10)"
      ],
      "metadata": {
        "colab": {
          "base_uri": "https://localhost:8080/"
        },
        "id": "FtcaAcdJQiya",
        "outputId": "2e8f3215-b84e-450e-bc5a-d7b7398fe70d"
      },
      "execution_count": 22,
      "outputs": [
        {
          "output_type": "stream",
          "name": "stdout",
          "text": [
            "Epoch 1/10\n",
            "173/173 [==============================] - 13s 72ms/step - loss: 1.0058 - accuracy: 0.4817\n",
            "Epoch 2/10\n",
            "173/173 [==============================] - 13s 74ms/step - loss: 0.6035 - accuracy: 0.7574\n",
            "Epoch 3/10\n",
            "173/173 [==============================] - 13s 75ms/step - loss: 0.3547 - accuracy: 0.8761\n",
            "Epoch 4/10\n",
            "173/173 [==============================] - 13s 74ms/step - loss: 0.2280 - accuracy: 0.9268\n",
            "Epoch 5/10\n",
            "173/173 [==============================] - 13s 74ms/step - loss: 0.1355 - accuracy: 0.9580\n",
            "Epoch 6/10\n",
            "173/173 [==============================] - 13s 78ms/step - loss: 0.1147 - accuracy: 0.9647\n",
            "Epoch 7/10\n",
            "173/173 [==============================] - 13s 74ms/step - loss: 0.0724 - accuracy: 0.9828\n",
            "Epoch 8/10\n",
            "173/173 [==============================] - 13s 76ms/step - loss: 0.0495 - accuracy: 0.9870\n",
            "Epoch 9/10\n",
            "173/173 [==============================] - 13s 74ms/step - loss: 0.0484 - accuracy: 0.9859\n",
            "Epoch 10/10\n",
            "173/173 [==============================] - 13s 73ms/step - loss: 0.0534 - accuracy: 0.9851\n"
          ]
        },
        {
          "output_type": "execute_result",
          "data": {
            "text/plain": [
              "<keras.callbacks.History at 0x7f58691682d0>"
            ]
          },
          "metadata": {},
          "execution_count": 22
        }
      ]
    },
    {
      "cell_type": "code",
      "source": [
        "test_loss, test_accuracy = model.evaluate(x_test,y_test, verbose=2)\n",
        "print(\"test_loss: {} \".format(test_loss))\n",
        "print(\"test_accuracy: {}\".format(test_accuracy))"
      ],
      "metadata": {
        "colab": {
          "base_uri": "https://localhost:8080/"
        },
        "id": "bD_T1yZ4bJVq",
        "outputId": "b745c96e-f8e1-4f6b-ec9a-6115ed28ff55"
      },
      "execution_count": 23,
      "outputs": [
        {
          "output_type": "stream",
          "name": "stdout",
          "text": [
            "44/44 - 1s - loss: 46.8984 - accuracy: 0.9043 - 931ms/epoch - 21ms/step\n",
            "test_loss: 46.89841079711914 \n",
            "test_accuracy: 0.904347836971283\n"
          ]
        }
      ]
    },
    {
      "cell_type": "markdown",
      "source": [
        "## **Summary**"
      ],
      "metadata": {
        "id": "pHgNCSr8daCU"
      }
    },
    {
      "cell_type": "markdown",
      "source": [
        "초기에 직접 만든 데이터셋으로만 활용했을 때, 40%대의 낮은 인식율을 보여줬다.  \n",
        "train 데이터의 부족으로 판단되어, 가위 바위 보 각 사진 2300개의 데이터 셋을 추가하여 진행했다.  \n",
        "결과적으로, 90% 이상의 정확도를 보여주었다.\n",
        "\n",
        "\n",
        "개인적인 느낌으로, 데이터셋 자체가 전반적으로 양질의 퀄리티를 가졌기에 모델의 추가적인 조정없이 이러한 결과를 나타낸 것 같다.  \n",
        "앞으로 배우게 될 여러가지 모델들을 학습하며,  \n",
        "어떠한 상황에서 어떠한 구조가 유리한지 중점적으로 살펴보는 과정이 필요할 것이라고 생각한다."
      ],
      "metadata": {
        "id": "bgM0URGKdtsk"
      }
    }
  ]
}