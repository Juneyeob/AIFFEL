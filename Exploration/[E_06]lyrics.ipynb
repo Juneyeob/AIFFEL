{
  "nbformat": 4,
  "nbformat_minor": 0,
  "metadata": {
    "colab": {
      "name": "[E-06]lyrics.ipynb",
      "provenance": [],
      "collapsed_sections": [],
      "machine_shape": "hm"
    },
    "kernelspec": {
      "name": "python3",
      "display_name": "Python 3"
    },
    "language_info": {
      "name": "python"
    },
    "accelerator": "GPU"
  },
  "cells": [
    {
      "cell_type": "markdown",
      "source": [
        "# **작사가 인공지능 만들기**"
      ],
      "metadata": {
        "id": "QavLJhg71qj-"
      }
    },
    {
      "cell_type": "markdown",
      "source": [
        "## Import"
      ],
      "metadata": {
        "id": "5f19BZ6Feuv4"
      }
    },
    {
      "cell_type": "code",
      "execution_count": 7,
      "metadata": {
        "id": "Lto0_eOqu7gU"
      },
      "outputs": [],
      "source": [
        "import os, re\n",
        "import glob\n",
        "import matplotlib.pyplot as plt\n",
        "import numpy as np\n",
        "\n",
        "import tensorflow as tf\n",
        "from sklearn.model_selection import train_test_split"
      ]
    },
    {
      "cell_type": "markdown",
      "source": [
        "## 데이터 로드"
      ],
      "metadata": {
        "id": "P07cTTHteypY"
      }
    },
    {
      "cell_type": "code",
      "source": [
        "from google.colab import drive\n",
        "drive.mount('/content/drive')\n",
        "\n",
        "txt_file_path = '/content/drive/MyDrive/song_lyrics/*'\n",
        "\n",
        "txt_list = glob.glob(txt_file_path)\n",
        "\n",
        "raw_corpus = []\n",
        "\n",
        "for txt_file in txt_list:\n",
        "  with open(txt_file, \"r\") as f:\n",
        "    raw = f.read().splitlines()\n",
        "    raw_corpus.extend(raw)\n",
        "\n",
        "print(\"데이터 크기:\", len(raw_corpus))\n",
        "print(\"Examples:\\n\", raw_corpus[:3])"
      ],
      "metadata": {
        "colab": {
          "base_uri": "https://localhost:8080/"
        },
        "id": "N3I7JHEEJNHu",
        "outputId": "dbaa0ccf-a284-419f-c0d6-770a12930ee2"
      },
      "execution_count": 8,
      "outputs": [
        {
          "output_type": "stream",
          "name": "stdout",
          "text": [
            "Drive already mounted at /content/drive; to attempt to forcibly remount, call drive.mount(\"/content/drive\", force_remount=True).\n",
            "데이터 크기: 187088\n",
            "Examples:\n",
            " ['Looking for some education', 'Made my way into the night', 'All that bullshit conversation']\n"
          ]
        }
      ]
    },
    {
      "cell_type": "markdown",
      "source": [
        "## 데이터 전처리"
      ],
      "metadata": {
        "id": "ZI8HOaOIhVHx"
      }
    },
    {
      "cell_type": "code",
      "source": [
        "import re            \n",
        "def preprocess_sentence(sentence):\n",
        "    sentence = sentence.lower().strip()       # 소문자로 바꾸고 양쪽 공백을 삭제\n",
        "  \n",
        "    # 아래 3단계를 거쳐 sentence는 스페이스 1개를 delimeter로 하는 소문자 단어 시퀀스로 바뀝니다.\n",
        "    sentence = re.sub(r\"([?.!,¿])\", r\" \\1 \", sentence)        # 패턴의 특수문자를 만나면 특수문자 양쪽에 공백을 추가\n",
        "    sentence = re.sub(r'[\" \"]+', \" \", sentence)                  # 공백 패턴을 만나면 스페이스 1개로 치환\n",
        "    sentence = re.sub(r\"[^a-zA-Z?.!,¿]+\", \" \", sentence)  # a-zA-Z?.!,¿ 패턴을 제외한 모든 문자(공백문자까지도)를 스페이스 1개로 치환\n",
        "\n",
        "    sentence = sentence.strip()\n",
        "\n",
        "    sentence = '<start> ' + sentence + ' <end>'      # 이전 스텝에서 본 것처럼 문장 앞뒤로 <start>와 <end>를 단어처럼 붙여 줍니다\n",
        "    \n",
        "    return sentence"
      ],
      "metadata": {
        "id": "aE62wQSBhWJO"
      },
      "execution_count": 9,
      "outputs": []
    },
    {
      "cell_type": "code",
      "source": [
        "corpus = []\n",
        "\n",
        "for sentence in raw_corpus:\n",
        "    if len(sentence) == 0: continue\n",
        "    if sentence[-1] == \":\": continue\n",
        "        \n",
        "    corpus.append(preprocess_sentence(sentence))\n",
        "        \n",
        "corpus[:10]"
      ],
      "metadata": {
        "colab": {
          "base_uri": "https://localhost:8080/"
        },
        "id": "hgiG-hcbhvQN",
        "outputId": "7dd60b46-ad83-47cc-8ba4-58020ffbdbef"
      },
      "execution_count": 10,
      "outputs": [
        {
          "output_type": "execute_result",
          "data": {
            "text/plain": [
              "['<start> looking for some education <end>',\n",
              " '<start> made my way into the night <end>',\n",
              " '<start> all that bullshit conversation <end>',\n",
              " '<start> baby , can t you read the signs ? i won t bore you with the details , baby <end>',\n",
              " '<start> i don t even wanna waste your time <end>',\n",
              " '<start> let s just say that maybe <end>',\n",
              " '<start> you could help me ease my mind <end>',\n",
              " '<start> i ain t mr . right but if you re looking for fast love <end>',\n",
              " '<start> if that s love in your eyes <end>',\n",
              " '<start> it s more than enough <end>']"
            ]
          },
          "metadata": {},
          "execution_count": 10
        }
      ]
    },
    {
      "cell_type": "code",
      "source": [
        "import tensorflow as tf\n",
        "def tokenize(corpus):\n",
        "    # 텐서플로우에서 제공하는 Tokenizer 패키지를 생성\n",
        "    tokenizer = tf.keras.preprocessing.text.Tokenizer(\n",
        "        num_words=12000,  # 전체 단어의 개수 \n",
        "        filters=' ',    # 별도로 전처리 로직을 추가할 수 있습니다. 이번에는 사용하지 않겠습니다.\n",
        "        oov_token=\"<unk>\"  # out-of-vocabulary, 사전에 없었던 단어는 어떤 토큰으로 대체할지\n",
        "    )\n",
        "    tokenizer.fit_on_texts(corpus)   # 우리가 구축한 corpus로부터 Tokenizer가 사전을 자동구축하게 됩니다.\n",
        "\n",
        "    # 이후 tokenizer를 활용하여 모델에 입력할 데이터셋을 구축하게 됩니다.\n",
        "    tensor = tokenizer.texts_to_sequences(corpus)   \n",
        "    # tokenizer는 구축한 사전으로부터 corpus를 해석해 Tensor로 변환합니다.\n",
        "\n",
        "    # 입력 데이터의 시퀀스 길이를 일정하게 맞추기 위한 padding  메소드를 제공합니다.\n",
        "    # maxlen의 디폴트값은 None입니다. 이 경우 corpus의 가장 긴 문장을 기준으로 시퀀스 길이가 맞춰집니다.\n",
        "    tensor = tf.keras.preprocessing.sequence.pad_sequences(tensor, padding='post', maxlen=15)  \n",
        "\n",
        "    print(tensor,tokenizer)\n",
        "    return tensor, tokenizer\n",
        "tensor, tokenizer = tokenize(corpus)"
      ],
      "metadata": {
        "colab": {
          "base_uri": "https://localhost:8080/"
        },
        "id": "GB1G-k-Wh7C9",
        "outputId": "ec58ed41-68a8-4c29-cf63-03826a58b59d"
      },
      "execution_count": 11,
      "outputs": [
        {
          "output_type": "stream",
          "name": "stdout",
          "text": [
            "[[  2 304  28 ...   0   0   0]\n",
            " [  2 221  13 ...   0   0   0]\n",
            " [  2  24  17 ...   0   0   0]\n",
            " ...\n",
            " [  2  23  77 ...   0   0   0]\n",
            " [  2  42  26 ...   0   0   0]\n",
            " [  2  23  77 ...   0   0   0]] <keras_preprocessing.text.Tokenizer object at 0x7fa2874e9110>\n"
          ]
        }
      ]
    },
    {
      "cell_type": "code",
      "source": [
        "print(tensor[:3, :15])"
      ],
      "metadata": {
        "colab": {
          "base_uri": "https://localhost:8080/"
        },
        "id": "dmOxgmDAiJ6t",
        "outputId": "c2362118-5f37-43dc-c3ac-eed5963e02fb"
      },
      "execution_count": 12,
      "outputs": [
        {
          "output_type": "stream",
          "name": "stdout",
          "text": [
            "[[   2  304   28   99 4811    3    0    0    0    0    0    0    0    0\n",
            "     0]\n",
            " [   2  221   13   85  226    6  115    3    0    0    0    0    0    0\n",
            "     0]\n",
            " [   2   24   17 1087 2347    3    0    0    0    0    0    0    0    0\n",
            "     0]]\n"
          ]
        }
      ]
    },
    {
      "cell_type": "code",
      "source": [
        "for idx in tokenizer.index_word:\n",
        "    print(idx, \":\", tokenizer.index_word[idx])\n",
        "\n",
        "    if idx >= 10: break"
      ],
      "metadata": {
        "colab": {
          "base_uri": "https://localhost:8080/"
        },
        "id": "gRzU8A3NiKm7",
        "outputId": "4f21f73c-8875-4466-b63a-9fcc92bc4d15"
      },
      "execution_count": 13,
      "outputs": [
        {
          "output_type": "stream",
          "name": "stdout",
          "text": [
            "1 : <unk>\n",
            "2 : <start>\n",
            "3 : <end>\n",
            "4 : ,\n",
            "5 : i\n",
            "6 : the\n",
            "7 : you\n",
            "8 : and\n",
            "9 : a\n",
            "10 : to\n"
          ]
        }
      ]
    },
    {
      "cell_type": "code",
      "source": [
        "src_input = tensor[:, :-1]  # tensor에서 마지막 토큰을 잘라내서 소스 문장을 생성합니다. 마지막 토큰은 <END>가 아니라 <pad>일 가능성이 높습니다.\n",
        "tgt_input = tensor[:, 1:]    # tensor에서 <START>를 잘라내서 타겟 문장을 생성합니다.\n",
        "\n",
        "print(src_input[0])\n",
        "print(tgt_input[0])"
      ],
      "metadata": {
        "id": "XvLkz_T6iOvR",
        "outputId": "7ed1efe4-1eed-4e48-ba3f-a0018ce7720c",
        "colab": {
          "base_uri": "https://localhost:8080/"
        }
      },
      "execution_count": 14,
      "outputs": [
        {
          "output_type": "stream",
          "name": "stdout",
          "text": [
            "[   2  304   28   99 4811    3    0    0    0    0    0    0    0    0]\n",
            "[ 304   28   99 4811    3    0    0    0    0    0    0    0    0    0]\n"
          ]
        }
      ]
    },
    {
      "cell_type": "markdown",
      "source": [
        "## 데이터 분리"
      ],
      "metadata": {
        "id": "m0QFoHgRPwWx"
      }
    },
    {
      "cell_type": "code",
      "source": [
        "from sklearn.model_selection import train_test_split\n",
        "enc_train, enc_val, dec_train, dec_val = train_test_split(src_input, \n",
        "                                                          tgt_input,\n",
        "                                                          test_size=0.2,\n",
        "                                                          shuffle=True, \n",
        "                                                          random_state=34)"
      ],
      "metadata": {
        "id": "QfVPHT_IP2Gm"
      },
      "execution_count": 15,
      "outputs": []
    },
    {
      "cell_type": "code",
      "source": [
        "BUFFER_SIZE = len(src_input)\n",
        "BATCH_SIZE = 256\n",
        "steps_per_epoch = len(src_input) // BATCH_SIZE\n",
        "\n",
        "VOCAB_SIZE = tokenizer.num_words + 1   \n",
        "# tokenizer가 구축한 단어사전 내 12000개와, 여기 포함되지 않은 0:<pad>를 포함하여 12001개"
      ],
      "metadata": {
        "id": "qJjAa4WLP5wD"
      },
      "execution_count": 16,
      "outputs": []
    },
    {
      "cell_type": "code",
      "source": [
        "dataset = tf.data.Dataset.from_tensor_slices((enc_train, dec_train)).shuffle(BUFFER_SIZE)\n",
        "dataset = dataset.batch(BATCH_SIZE, drop_remainder=True)\n",
        "dataset"
      ],
      "metadata": {
        "colab": {
          "base_uri": "https://localhost:8080/"
        },
        "id": "fuFlRLhdP7nb",
        "outputId": "7fdf7ce0-3dc1-4260-962e-9fe1b6b1574d"
      },
      "execution_count": 17,
      "outputs": [
        {
          "output_type": "execute_result",
          "data": {
            "text/plain": [
              "<BatchDataset element_spec=(TensorSpec(shape=(256, 14), dtype=tf.int32, name=None), TensorSpec(shape=(256, 14), dtype=tf.int32, name=None))>"
            ]
          },
          "metadata": {},
          "execution_count": 17
        }
      ]
    },
    {
      "cell_type": "code",
      "source": [
        "val_dataset = tf.data.Dataset.from_tensor_slices((enc_val, dec_val)).shuffle(BUFFER_SIZE)\n",
        "val_dataset = val_dataset.batch(BATCH_SIZE, drop_remainder=True)\n",
        "val_dataset"
      ],
      "metadata": {
        "colab": {
          "base_uri": "https://localhost:8080/"
        },
        "id": "QqLP7ysSP9XV",
        "outputId": "e9237365-7fbe-4b96-f63b-4348022b4575"
      },
      "execution_count": 18,
      "outputs": [
        {
          "output_type": "execute_result",
          "data": {
            "text/plain": [
              "<BatchDataset element_spec=(TensorSpec(shape=(256, 14), dtype=tf.int32, name=None), TensorSpec(shape=(256, 14), dtype=tf.int32, name=None))>"
            ]
          },
          "metadata": {},
          "execution_count": 18
        }
      ]
    },
    {
      "cell_type": "markdown",
      "source": [
        "## 인공지능 만들기"
      ],
      "metadata": {
        "id": "hRYHelpbQA4y"
      }
    },
    {
      "cell_type": "code",
      "source": [
        "class TextGenerator(tf.keras.Model):\n",
        "    def __init__(self, vocab_size, embedding_size, hidden_size):\n",
        "        super(TextGenerator, self).__init__()\n",
        "        \n",
        "        self.embedding = tf.keras.layers.Embedding(vocab_size, embedding_size)\n",
        "        self.rnn_1 = tf.keras.layers.LSTM(hidden_size, return_sequences=True)\n",
        "        self.drop1 = tf.keras.layers.Dropout(0.3)\n",
        "        self.rnn_2 = tf.keras.layers.LSTM(hidden_size, return_sequences=True)\n",
        "        self.linear = tf.keras.layers.Dense(vocab_size)\n",
        "        \n",
        "    def call(self, x):\n",
        "        out = self.embedding(x)\n",
        "        out = self.rnn_1(out)\n",
        "        out = self.drop1(out)\n",
        "        out = self.rnn_2(out)\n",
        "        out = self.linear(out)\n",
        "        \n",
        "        return out\n",
        "    \n",
        "embedding_size = 1024\n",
        "hidden_size = 2048\n",
        "model = TextGenerator(tokenizer.num_words + 1, embedding_size , hidden_size)"
      ],
      "metadata": {
        "id": "Ogt5dsb4RTNb"
      },
      "execution_count": 19,
      "outputs": []
    },
    {
      "cell_type": "code",
      "source": [
        "for src_sample, tgt_sample in dataset.take(1): break\n",
        "model(src_sample)"
      ],
      "metadata": {
        "colab": {
          "base_uri": "https://localhost:8080/"
        },
        "id": "8fHHRwvSRWi6",
        "outputId": "765956ef-3629-4bde-ede3-4a058f2c6233"
      },
      "execution_count": 20,
      "outputs": [
        {
          "output_type": "execute_result",
          "data": {
            "text/plain": [
              "<tf.Tensor: shape=(256, 14, 12001), dtype=float32, numpy=\n",
              "array([[[ 1.92801726e-05,  2.52481666e-04, -9.05677825e-06, ...,\n",
              "         -1.81187992e-04,  1.70216790e-05,  5.97220642e-05],\n",
              "        [ 2.49573000e-04,  8.88009265e-04,  6.58562130e-05, ...,\n",
              "         -2.79486179e-04, -3.66899825e-04,  1.47413652e-04],\n",
              "        [ 2.70607910e-04,  6.75287447e-04,  4.87733079e-04, ...,\n",
              "         -6.47639506e-04, -1.83382755e-04,  1.85216893e-04],\n",
              "        ...,\n",
              "        [ 9.90981469e-04, -4.07961867e-04,  1.50683883e-03, ...,\n",
              "         -5.89087140e-04, -2.77537270e-03, -8.54093872e-04],\n",
              "        [ 8.22295551e-04, -3.08509945e-04,  1.83165830e-03, ...,\n",
              "         -4.75098001e-04, -3.09050130e-03, -4.61841788e-04],\n",
              "        [ 6.12636737e-04, -4.58087510e-04,  2.09724251e-03, ...,\n",
              "         -5.97781618e-04, -3.40058748e-03, -1.19967284e-04]],\n",
              "\n",
              "       [[ 3.03862995e-04,  2.10665967e-04,  1.95092907e-05, ...,\n",
              "          1.14510149e-04, -9.21122773e-06, -2.66728108e-04],\n",
              "        [ 1.94629683e-04,  2.55815568e-04,  1.89619561e-04, ...,\n",
              "         -2.33005063e-04,  6.39122911e-04, -3.47018358e-04],\n",
              "        [ 2.25734257e-05,  5.04684940e-05,  3.47564172e-04, ...,\n",
              "         -7.92238105e-04,  1.18642289e-03, -5.94187120e-04],\n",
              "        ...,\n",
              "        [-1.75789159e-04, -3.33711947e-03,  1.46306201e-03, ...,\n",
              "         -1.28599931e-03,  1.46900478e-03,  1.32431928e-03],\n",
              "        [-1.78521106e-04, -3.89458146e-03,  1.48906454e-03, ...,\n",
              "         -1.22584554e-03,  1.11468625e-03,  1.25674414e-03],\n",
              "        [-1.44925929e-04, -4.36168769e-03,  1.54247670e-03, ...,\n",
              "         -1.21929462e-03,  8.26027826e-04,  1.11713703e-03]],\n",
              "\n",
              "       [[ 3.03862995e-04,  2.10665967e-04,  1.95092907e-05, ...,\n",
              "          1.14510149e-04, -9.21122773e-06, -2.66728108e-04],\n",
              "        [ 3.28694732e-04,  5.16107189e-04, -1.66144644e-04, ...,\n",
              "         -2.24434218e-04,  4.54200723e-04, -4.87275742e-04],\n",
              "        [ 4.41340613e-04,  1.34679081e-03, -2.57183885e-04, ...,\n",
              "         -7.83683790e-04,  3.50302173e-04, -2.41803762e-04],\n",
              "        ...,\n",
              "        [-7.77842186e-04, -3.46901943e-04, -2.98406754e-04, ...,\n",
              "         -3.53677361e-03, -5.05601405e-04,  2.87431898e-03],\n",
              "        [-1.03274302e-03, -1.22728292e-03, -7.74856744e-05, ...,\n",
              "         -3.37226503e-03, -5.94677753e-04,  2.74244114e-03],\n",
              "        [-1.16671214e-03, -2.01588823e-03,  1.50484164e-04, ...,\n",
              "         -3.20712687e-03, -6.24282286e-04,  2.52535869e-03]],\n",
              "\n",
              "       ...,\n",
              "\n",
              "       [[ 3.03862995e-04,  2.10665967e-04,  1.95092907e-05, ...,\n",
              "          1.14510149e-04, -9.21122773e-06, -2.66728108e-04],\n",
              "        [ 6.61193742e-04, -2.97077204e-04,  2.39150875e-04, ...,\n",
              "          5.04910604e-05,  1.59032308e-04, -3.00462241e-04],\n",
              "        [ 5.57168270e-04, -5.59112057e-04, -2.65190442e-06, ...,\n",
              "          4.90555365e-04,  1.74141489e-04, -5.83139015e-04],\n",
              "        ...,\n",
              "        [-3.22762382e-04,  2.17498615e-04,  1.81425351e-03, ...,\n",
              "         -5.58952219e-04,  1.82651868e-03, -1.17713166e-03],\n",
              "        [-2.51480611e-04, -5.34514329e-05,  1.99756888e-03, ...,\n",
              "         -2.12210391e-04,  1.45160744e-03, -1.18460704e-03],\n",
              "        [-1.46093269e-04,  5.20434187e-05,  2.08220026e-03, ...,\n",
              "         -1.74665183e-04,  1.02105481e-03, -1.28687697e-03]],\n",
              "\n",
              "       [[ 3.03862995e-04,  2.10665967e-04,  1.95092907e-05, ...,\n",
              "          1.14510149e-04, -9.21122773e-06, -2.66728108e-04],\n",
              "        [ 4.97557980e-04,  4.07501269e-04, -3.41069899e-05, ...,\n",
              "          2.18731206e-04, -2.52405734e-04, -5.86542708e-04],\n",
              "        [-1.65885140e-05,  6.95241382e-04,  9.89137770e-05, ...,\n",
              "          1.44120218e-04, -3.06738046e-04, -4.82066505e-04],\n",
              "        ...,\n",
              "        [-2.50036741e-04, -2.04253611e-05,  2.13915599e-03, ...,\n",
              "         -5.85285365e-04, -2.11811345e-03,  2.62889382e-03],\n",
              "        [-4.79635200e-04, -9.11156181e-04,  2.05736957e-03, ...,\n",
              "         -6.24858832e-04, -2.10443512e-03,  2.62363697e-03],\n",
              "        [-6.12804841e-04, -1.74029695e-03,  1.99077814e-03, ...,\n",
              "         -6.83854683e-04, -2.00475985e-03,  2.48582475e-03]],\n",
              "\n",
              "       [[ 3.03862995e-04,  2.10665967e-04,  1.95092907e-05, ...,\n",
              "          1.14510149e-04, -9.21122773e-06, -2.66728108e-04],\n",
              "        [ 4.27478779e-04,  6.18857215e-04,  7.14939597e-05, ...,\n",
              "         -1.93518048e-04,  6.43359235e-05,  2.83509464e-04],\n",
              "        [ 1.06635802e-04,  6.71214715e-04,  3.29039613e-04, ...,\n",
              "         -3.19743158e-05, -1.79155886e-05,  6.76919124e-04],\n",
              "        ...,\n",
              "        [ 2.66784010e-03,  3.74148396e-04,  2.60562683e-03, ...,\n",
              "         -3.55377118e-03, -8.88067530e-04,  2.85610095e-05],\n",
              "        [ 1.96501915e-03,  2.90697044e-05,  2.56298319e-03, ...,\n",
              "         -3.51082045e-03, -1.20815949e-03,  3.72294162e-04],\n",
              "        [ 1.27830077e-03, -5.13049192e-04,  2.46684114e-03, ...,\n",
              "         -3.31432675e-03, -1.41901826e-03,  6.97323354e-04]]],\n",
              "      dtype=float32)>"
            ]
          },
          "metadata": {},
          "execution_count": 20
        }
      ]
    },
    {
      "cell_type": "code",
      "source": [
        "model.summary()"
      ],
      "metadata": {
        "colab": {
          "base_uri": "https://localhost:8080/"
        },
        "id": "7hPycCNlRYkz",
        "outputId": "3feed9e4-2726-4e99-cee9-03d996ca4d11"
      },
      "execution_count": 21,
      "outputs": [
        {
          "output_type": "stream",
          "name": "stdout",
          "text": [
            "Model: \"text_generator\"\n",
            "_________________________________________________________________\n",
            " Layer (type)                Output Shape              Param #   \n",
            "=================================================================\n",
            " embedding (Embedding)       multiple                  12289024  \n",
            "                                                                 \n",
            " lstm (LSTM)                 multiple                  25174016  \n",
            "                                                                 \n",
            " dropout (Dropout)           multiple                  0         \n",
            "                                                                 \n",
            " lstm_1 (LSTM)               multiple                  33562624  \n",
            "                                                                 \n",
            " dense (Dense)               multiple                  24590049  \n",
            "                                                                 \n",
            "=================================================================\n",
            "Total params: 95,615,713\n",
            "Trainable params: 95,615,713\n",
            "Non-trainable params: 0\n",
            "_________________________________________________________________\n"
          ]
        }
      ]
    },
    {
      "cell_type": "code",
      "source": [
        "optimizer = tf.keras.optimizers.Adam(learning_rate=0.001)\n",
        "\n",
        "loss = tf.keras.losses.SparseCategoricalCrossentropy(\n",
        "    from_logits=True,\n",
        "    reduction='none'\n",
        ")\n",
        "\n",
        "model.compile(loss=loss, optimizer=optimizer, metrics=['accuracy'])"
      ],
      "metadata": {
        "id": "XbHnuzidRZgK"
      },
      "execution_count": 22,
      "outputs": []
    },
    {
      "cell_type": "code",
      "source": [
        "history = []\n",
        "epochs = 10\n",
        "history = model.fit(dataset,\n",
        "          epochs=epochs,\n",
        "          batch_size=256,\n",
        "          validation_data=val_dataset,\n",
        "          verbose=1)"
      ],
      "metadata": {
        "colab": {
          "base_uri": "https://localhost:8080/"
        },
        "id": "GpO0zEz-Ra2w",
        "outputId": "eae8f304-4637-4926-e604-71a00175ddb9"
      },
      "execution_count": 23,
      "outputs": [
        {
          "metadata": {
            "tags": null
          },
          "name": "stdout",
          "output_type": "stream",
          "text": [
            "Epoch 1/10\n",
            "549/549 [==============================] - 303s 547ms/step - loss: 3.4276 - accuracy: 0.4720 - val_loss: 3.0400 - val_accuracy: 0.5020\n",
            "Epoch 2/10\n",
            "549/549 [==============================] - 307s 560ms/step - loss: 2.8501 - accuracy: 0.5154 - val_loss: 2.7726 - val_accuracy: 0.5259\n",
            "Epoch 3/10\n",
            "549/549 [==============================] - 307s 559ms/step - loss: 2.5244 - accuracy: 0.5455 - val_loss: 2.5906 - val_accuracy: 0.5513\n",
            "Epoch 4/10\n",
            "549/549 [==============================] - 308s 561ms/step - loss: 2.2273 - accuracy: 0.5800 - val_loss: 2.4629 - val_accuracy: 0.5728\n",
            "Epoch 5/10\n",
            "549/549 [==============================] - 308s 561ms/step - loss: 1.9603 - accuracy: 0.6175 - val_loss: 2.3781 - val_accuracy: 0.5914\n",
            "Epoch 6/10\n",
            "549/549 [==============================] - 308s 560ms/step - loss: 1.7271 - accuracy: 0.6558 - val_loss: 2.3227 - val_accuracy: 0.6075\n",
            "Epoch 7/10\n",
            "549/549 [==============================] - 308s 561ms/step - loss: 1.5322 - accuracy: 0.6912 - val_loss: 2.2925 - val_accuracy: 0.6209\n",
            "Epoch 8/10\n",
            "549/549 [==============================] - 308s 561ms/step - loss: 1.3735 - accuracy: 0.7219 - val_loss: 2.2820 - val_accuracy: 0.6324\n",
            "Epoch 9/10\n",
            "549/549 [==============================] - 308s 561ms/step - loss: 1.2481 - accuracy: 0.7476 - val_loss: 2.2913 - val_accuracy: 0.6400\n",
            "Epoch 10/10\n",
            "549/549 [==============================] - 308s 562ms/step - loss: 1.1518 - accuracy: 0.7679 - val_loss: 2.3037 - val_accuracy: 0.6445\n"
          ]
        }
      ]
    },
    {
      "cell_type": "code",
      "source": [
        "def plot_curve(epochs, hist, list_of_metrics):\n",
        "    \n",
        "    fig, ax = plt.subplots(1,2,figsize = (12, 8))\n",
        "    \n",
        "    for i in range(len(ax)):\n",
        "        ax[i].set_xlabel('Epochs')\n",
        "        ax[i].set_ylabel('Value')\n",
        "        \n",
        "        for n in range(len(list_of_metrics)):\n",
        "            if i == 0:\n",
        "                y = hist[list_of_metrics[n]]\n",
        "                if n == 0:\n",
        "                    ax[i].plot(epochs, y, label=\"train\")\n",
        "                else:\n",
        "                    ax[i].plot(epochs, y, label=\"val\")\n",
        "                ax[i].set_title('Loss')\n",
        "                ax[i].legend(loc='upper right')\n",
        "                if n == 1:\n",
        "                    break\n",
        "            else:\n",
        "                if n >= 2:\n",
        "                    y = hist[list_of_metrics[n]]\n",
        "                    if n == 2:\n",
        "                        ax[i].plot(epochs, y, label=\"train\")\n",
        "                    else:\n",
        "                        ax[i].plot(epochs, y, label=\"val\")\n",
        "                    ax[i].set_title('Accuracy')\n",
        "                    ax[i].legend(loc='lower right')\n",
        "                    \n",
        "    plt.show()"
      ],
      "metadata": {
        "id": "NDkEL6yoRcSi"
      },
      "execution_count": 24,
      "outputs": []
    },
    {
      "cell_type": "code",
      "source": [
        "import matplotlib.pyplot as plt \n",
        "plot_curve(history.epoch, history.history,\n",
        "           ['loss', 'val_loss', 'accuracy', 'val_accuracy'])"
      ],
      "metadata": {
        "colab": {
          "base_uri": "https://localhost:8080/",
          "height": 513
        },
        "id": "f4yrNPSiRdfr",
        "outputId": "e964b45d-8821-4e25-d294-15ba8bdcbc5e"
      },
      "execution_count": 25,
      "outputs": [
        {
          "data": {
            "image/png": "[encoded data removed]",
            "text/plain": [
              "<Figure size 864x576 with 2 Axes>"
            ]
          },
          "metadata": {},
          "output_type": "display_data"
        }
      ]
    },
    {
      "cell_type": "code",
      "source": [
        "def generate_text(model, tokenizer, init_sentence=\"<start>\", max_len=20):\n",
        "    # 테스트를 위해서 입력받은 init_sentence도 일단 텐서로 변환합니다.\n",
        "    test_input = tokenizer.texts_to_sequences([init_sentence])\n",
        "    test_tensor = tf.convert_to_tensor(test_input, dtype=tf.int64)\n",
        "    end_token = tokenizer.word_index[\"<end>\"]\n",
        "\n",
        "    # 텍스트를 실제로 생성할때는 루프를 돌면서 단어 하나씩 생성해야 합니다. \n",
        "    while True:\n",
        "        predict = model(test_tensor)  # 입력받은 문장의 텐서를 입력합니다. \n",
        "        predict_word = tf.argmax(tf.nn.softmax(predict, axis=-1), axis=-1)[:, -1]   # 우리 모델이 예측한 마지막 단어가 바로 새롭게 생성한 단어가 됩니다. \n",
        "\n",
        "        # 우리 모델이 새롭게 예측한 단어를 입력 문장의 뒤에 붙여 줍니다. \n",
        "        test_tensor = tf.concat([test_tensor, \n",
        "        tf.expand_dims(predict_word, axis=0)], axis=-1)\n",
        "\n",
        "        # 우리 모델이 <END>를 예측했거나, max_len에 도달하지 않았다면  while 루프를 또 돌면서 다음 단어를 예측해야 합니다.\n",
        "        if predict_word.numpy()[0] == end_token: break\n",
        "        if test_tensor.shape[1] >= max_len: break\n",
        "\n",
        "    generated = \"\"\n",
        "    # 생성된 tensor 안에 있는 word index를 tokenizer.index_word 사전을 통해 실제 단어로 하나씩 변환합니다. \n",
        "    for word_index in test_tensor[0].numpy():\n",
        "        generated += tokenizer.index_word[word_index] + \" \"\n",
        "\n",
        "    return generated   # 이것이 최종적으로 모델이 생성한 자연어 문장입니다."
      ],
      "metadata": {
        "id": "v7J9j8upRfAU"
      },
      "execution_count": 26,
      "outputs": []
    },
    {
      "cell_type": "markdown",
      "source": [
        "## 가사"
      ],
      "metadata": {
        "id": "RKGPEOHDRgSK"
      }
    },
    {
      "cell_type": "code",
      "source": [
        "generate_text(model, tokenizer, init_sentence=\"<start> i was\", max_len=20)"
      ],
      "metadata": {
        "colab": {
          "base_uri": "https://localhost:8080/",
          "height": 35
        },
        "id": "Akzy3GeFRj2G",
        "outputId": "84a3a390-68c0-402a-d9fb-a0a83410a771"
      },
      "execution_count": 30,
      "outputs": [
        {
          "output_type": "execute_result",
          "data": {
            "text/plain": [
              "'<start> i was born to make you happy <end> '"
            ],
            "application/vnd.google.colaboratory.intrinsic+json": {
              "type": "string"
            }
          },
          "metadata": {},
          "execution_count": 30
        }
      ]
    },
    {
      "cell_type": "markdown",
      "source": [
        "가사가 너무 낭만적이라 깜짝 놀랐다."
      ],
      "metadata": {
        "id": "Hnnb6Ft-z87C"
      }
    },
    {
      "cell_type": "code",
      "source": [
        "generate_text(model, tokenizer, init_sentence=\"<start> how did\", max_len=20)"
      ],
      "metadata": {
        "colab": {
          "base_uri": "https://localhost:8080/",
          "height": 35
        },
        "id": "Y5ZMfJVseWfz",
        "outputId": "667153e5-81f4-49d2-855b-19480361cd7d"
      },
      "execution_count": 33,
      "outputs": [
        {
          "output_type": "execute_result",
          "data": {
            "text/plain": [
              "'<start> how did you get to sweden ? <end> '"
            ],
            "application/vnd.google.colaboratory.intrinsic+json": {
              "type": "string"
            }
          },
          "metadata": {},
          "execution_count": 33
        }
      ]
    },
    {
      "cell_type": "code",
      "source": [
        "generate_text(model, tokenizer, init_sentence=\"<start> he\", max_len=20)"
      ],
      "metadata": {
        "colab": {
          "base_uri": "https://localhost:8080/",
          "height": 35
        },
        "id": "ftdOsS_OfUlH",
        "outputId": "b74d252e-6ea8-49fa-fde8-729c91e2b61c"
      },
      "execution_count": 29,
      "outputs": [
        {
          "data": {
            "application/vnd.google.colaboratory.intrinsic+json": {
              "type": "string"
            },
            "text/plain": [
              "'<start> he s lookin for that home , and i hope he finds it <end> '"
            ]
          },
          "execution_count": null,
          "metadata": {},
          "output_type": "execute_result"
        }
      ]
    },
    {
      "cell_type": "markdown",
      "source": [
        "## **Summary**\n",
        "\n",
        "\n",
        "작사가 인공지능을 만들기 위해, 데이터 전처리부터 토크나이즈,\n",
        "\n",
        "트레이닝 후 테스트까지 완료했다.\n",
        "\n",
        "validation loss를 줄이기 위해 dropout 값을 조정하였고, 원하는 결과를 얻을 수 있었다.\n",
        "\n",
        "모델을 이것 저것 뜯어고쳐보고 싶었지만, 에포크 단계에서 시간이 많이 소요되어,\n",
        "\n",
        "생각보다 많은 수정을 할 수가 없었다.\n",
        "\n",
        "하지만, 결과적으로 그럴 듯한 가사를 얻을 수 있었다.\n",
        "\n",
        "이번 프로젝트를 통해 자연어 처리에 대해 더 흥미가 생기는 계기가 되었다.\n",
        "\n",
        "\n"
      ],
      "metadata": {
        "id": "4e1LdQAQjC9z"
      }
    }
  ]
}