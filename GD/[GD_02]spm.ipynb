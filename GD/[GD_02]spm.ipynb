{
  "cells": [
    {
      "cell_type": "markdown",
      "id": "welcome-surgery",
      "metadata": {
        "id": "welcome-surgery"
      },
      "source": [
        "# 자연어 토큰화 방법에 따른 모델 성능 비교 예제"
      ]
    },
    {
      "cell_type": "markdown",
      "id": "actual-texture",
      "metadata": {
        "id": "actual-texture"
      },
      "source": [
        "#### 필요 라이브러리 호출\n",
        "***\n",
        "+ 예제에 필요한 라이브러리를 호출합니다.\n",
        "***"
      ]
    },
    {
      "cell_type": "code",
      "source": [
        "# Mecab 설치\n",
        "!curl -s https://raw.githubusercontent.com/teddylee777/machine-learning/master/99-Misc/01-Colab/mecab-colab.sh | bash"
      ],
      "metadata": {
        "colab": {
          "base_uri": "https://localhost:8080/"
        },
        "id": "txtwJMijLEmq",
        "outputId": "a691bea8-c3d5-4e9a-de3b-92622f22b2d4"
      },
      "id": "txtwJMijLEmq",
      "execution_count": null,
      "outputs": [
        {
          "output_type": "stream",
          "name": "stdout",
          "text": [
            "--2022-07-05 02:53:31--  https://www.dropbox.com/s/9xls0tgtf3edgns/mecab-0.996-ko-0.9.2.tar.gz?dl=1\n",
            "Resolving www.dropbox.com (www.dropbox.com)... 162.125.5.18, 2620:100:601d:18::a27d:512\n",
            "Connecting to www.dropbox.com (www.dropbox.com)|162.125.5.18|:443... connected.\n",
            "HTTP request sent, awaiting response... 301 Moved Permanently\n",
            "Location: /s/dl/9xls0tgtf3edgns/mecab-0.996-ko-0.9.2.tar.gz [following]\n",
            "--2022-07-05 02:53:32--  https://www.dropbox.com/s/dl/9xls0tgtf3edgns/mecab-0.996-ko-0.9.2.tar.gz\n",
            "Reusing existing connection to www.dropbox.com:443.\n",
            "HTTP request sent, awaiting response... 302 Found\n",
            "Location: https://ucbae1c7800ea7677069f7b09775.dl.dropboxusercontent.com/cd/0/get/Boe95CwlxptcvMT-h_eswg8NA3JAHuURdUWNQmud-VJjBLg5eaiIClxsxS51HUNo9mg3KAD2QVSzQxvdKaMNtFwp-JvyvCgk7Fx4HSaTEjIo-1eHS1C7jxH_upo5491OTD6YQMnF6zRc9YTdkfGzpt-1PptlXpcFYF05nvJ2zREX-ErrqmoOGTlEOVokcX-22H8/file?dl=1# [following]\n",
            "--2022-07-05 02:53:32--  https://ucbae1c7800ea7677069f7b09775.dl.dropboxusercontent.com/cd/0/get/Boe95CwlxptcvMT-h_eswg8NA3JAHuURdUWNQmud-VJjBLg5eaiIClxsxS51HUNo9mg3KAD2QVSzQxvdKaMNtFwp-JvyvCgk7Fx4HSaTEjIo-1eHS1C7jxH_upo5491OTD6YQMnF6zRc9YTdkfGzpt-1PptlXpcFYF05nvJ2zREX-ErrqmoOGTlEOVokcX-22H8/file?dl=1\n",
            "Resolving ucbae1c7800ea7677069f7b09775.dl.dropboxusercontent.com (ucbae1c7800ea7677069f7b09775.dl.dropboxusercontent.com)... 162.125.5.15, 2620:100:601d:15::a27d:50f\n",
            "Connecting to ucbae1c7800ea7677069f7b09775.dl.dropboxusercontent.com (ucbae1c7800ea7677069f7b09775.dl.dropboxusercontent.com)|162.125.5.15|:443... connected.\n",
            "HTTP request sent, awaiting response... 200 OK\n",
            "Length: 1414979 (1.3M) [application/binary]\n",
            "Saving to: ‘mecab-0.996-ko-0.9.2.tar.gz?dl=1.1’\n",
            "\n",
            "mecab-0.996-ko-0.9. 100%[===================>]   1.35M  --.-KB/s    in 0.1s    \n",
            "\n",
            "2022-07-05 02:53:33 (12.0 MB/s) - ‘mecab-0.996-ko-0.9.2.tar.gz?dl=1.1’ saved [1414979/1414979]\n",
            "\n",
            "mecab-0.996-ko-0.9.2/\n",
            "mecab-0.996-ko-0.9.2/example/\n",
            "mecab-0.996-ko-0.9.2/example/example.cpp\n",
            "mecab-0.996-ko-0.9.2/example/example_lattice.cpp\n",
            "mecab-0.996-ko-0.9.2/example/example_lattice.c\n",
            "mecab-0.996-ko-0.9.2/example/example.c\n",
            "mecab-0.996-ko-0.9.2/example/thread_test.cpp\n",
            "mecab-0.996-ko-0.9.2/mecab-config.in\n",
            "mecab-0.996-ko-0.9.2/man/\n",
            "mecab-0.996-ko-0.9.2/man/Makefile.am\n",
            "mecab-0.996-ko-0.9.2/man/mecab.1\n",
            "mecab-0.996-ko-0.9.2/man/Makefile.in\n",
            "mecab-0.996-ko-0.9.2/mecab.iss.in\n",
            "mecab-0.996-ko-0.9.2/config.guess\n",
            "mecab-0.996-ko-0.9.2/README\n",
            "mecab-0.996-ko-0.9.2/COPYING\n",
            "mecab-0.996-ko-0.9.2/CHANGES.md\n",
            "mecab-0.996-ko-0.9.2/README.md\n",
            "mecab-0.996-ko-0.9.2/INSTALL\n",
            "mecab-0.996-ko-0.9.2/config.sub\n",
            "mecab-0.996-ko-0.9.2/configure.in\n",
            "mecab-0.996-ko-0.9.2/swig/\n",
            "mecab-0.996-ko-0.9.2/swig/Makefile\n",
            "mecab-0.996-ko-0.9.2/swig/version.h.in\n",
            "mecab-0.996-ko-0.9.2/swig/version.h\n",
            "mecab-0.996-ko-0.9.2/swig/MeCab.i\n",
            "mecab-0.996-ko-0.9.2/aclocal.m4\n",
            "mecab-0.996-ko-0.9.2/LGPL\n",
            "mecab-0.996-ko-0.9.2/Makefile.am\n",
            "mecab-0.996-ko-0.9.2/configure\n",
            "mecab-0.996-ko-0.9.2/tests/\n",
            "mecab-0.996-ko-0.9.2/tests/autolink/\n",
            "mecab-0.996-ko-0.9.2/tests/autolink/unk.def\n",
            "mecab-0.996-ko-0.9.2/tests/autolink/dicrc\n",
            "mecab-0.996-ko-0.9.2/tests/autolink/dic.csv\n",
            "mecab-0.996-ko-0.9.2/tests/autolink/test\n",
            "mecab-0.996-ko-0.9.2/tests/autolink/char.def\n",
            "mecab-0.996-ko-0.9.2/tests/autolink/matrix.def\n",
            "mecab-0.996-ko-0.9.2/tests/autolink/test.gld\n",
            "mecab-0.996-ko-0.9.2/tests/t9/\n",
            "mecab-0.996-ko-0.9.2/tests/t9/unk.def\n",
            "mecab-0.996-ko-0.9.2/tests/t9/ipadic.pl\n",
            "mecab-0.996-ko-0.9.2/tests/t9/dicrc\n",
            "mecab-0.996-ko-0.9.2/tests/t9/dic.csv\n",
            "mecab-0.996-ko-0.9.2/tests/t9/test\n",
            "mecab-0.996-ko-0.9.2/tests/t9/char.def\n",
            "mecab-0.996-ko-0.9.2/tests/t9/matrix.def\n",
            "mecab-0.996-ko-0.9.2/tests/t9/mkdic.pl\n",
            "mecab-0.996-ko-0.9.2/tests/t9/test.gld\n",
            "mecab-0.996-ko-0.9.2/tests/cost-train/\n",
            "mecab-0.996-ko-0.9.2/tests/cost-train/ipa.train\n",
            "mecab-0.996-ko-0.9.2/tests/cost-train/ipa.test\n",
            "mecab-0.996-ko-0.9.2/tests/cost-train/seed/\n",
            "mecab-0.996-ko-0.9.2/tests/cost-train/seed/rewrite.def\n",
            "mecab-0.996-ko-0.9.2/tests/cost-train/seed/feature.def\n",
            "mecab-0.996-ko-0.9.2/tests/cost-train/seed/unk.def\n",
            "mecab-0.996-ko-0.9.2/tests/cost-train/seed/dicrc\n",
            "mecab-0.996-ko-0.9.2/tests/cost-train/seed/dic.csv\n",
            "mecab-0.996-ko-0.9.2/tests/cost-train/seed/char.def\n",
            "mecab-0.996-ko-0.9.2/tests/cost-train/seed/matrix.def\n",
            "mecab-0.996-ko-0.9.2/tests/run-eval.sh\n",
            "mecab-0.996-ko-0.9.2/tests/run-cost-train.sh\n",
            "mecab-0.996-ko-0.9.2/tests/Makefile.am\n",
            "mecab-0.996-ko-0.9.2/tests/katakana/\n",
            "mecab-0.996-ko-0.9.2/tests/katakana/unk.def\n",
            "mecab-0.996-ko-0.9.2/tests/katakana/dicrc\n",
            "mecab-0.996-ko-0.9.2/tests/katakana/dic.csv\n",
            "mecab-0.996-ko-0.9.2/tests/katakana/test\n",
            "mecab-0.996-ko-0.9.2/tests/katakana/char.def\n",
            "mecab-0.996-ko-0.9.2/tests/katakana/matrix.def\n",
            "mecab-0.996-ko-0.9.2/tests/katakana/test.gld\n",
            "mecab-0.996-ko-0.9.2/tests/eval/\n",
            "mecab-0.996-ko-0.9.2/tests/eval/answer\n",
            "mecab-0.996-ko-0.9.2/tests/eval/system\n",
            "mecab-0.996-ko-0.9.2/tests/eval/test.gld\n",
            "mecab-0.996-ko-0.9.2/tests/shiin/\n",
            "mecab-0.996-ko-0.9.2/tests/shiin/unk.def\n",
            "mecab-0.996-ko-0.9.2/tests/shiin/dicrc\n",
            "mecab-0.996-ko-0.9.2/tests/shiin/dic.csv\n",
            "mecab-0.996-ko-0.9.2/tests/shiin/test\n",
            "mecab-0.996-ko-0.9.2/tests/shiin/char.def\n",
            "mecab-0.996-ko-0.9.2/tests/shiin/matrix.def\n",
            "mecab-0.996-ko-0.9.2/tests/shiin/mkdic.pl\n",
            "mecab-0.996-ko-0.9.2/tests/shiin/test.gld\n",
            "mecab-0.996-ko-0.9.2/tests/latin/\n",
            "mecab-0.996-ko-0.9.2/tests/latin/unk.def\n",
            "mecab-0.996-ko-0.9.2/tests/latin/dicrc\n",
            "mecab-0.996-ko-0.9.2/tests/latin/dic.csv\n",
            "mecab-0.996-ko-0.9.2/tests/latin/test\n",
            "mecab-0.996-ko-0.9.2/tests/latin/char.def\n",
            "mecab-0.996-ko-0.9.2/tests/latin/matrix.def\n",
            "mecab-0.996-ko-0.9.2/tests/latin/test.gld\n",
            "mecab-0.996-ko-0.9.2/tests/chartype/\n",
            "mecab-0.996-ko-0.9.2/tests/chartype/unk.def\n",
            "mecab-0.996-ko-0.9.2/tests/chartype/dicrc\n",
            "mecab-0.996-ko-0.9.2/tests/chartype/dic.csv\n",
            "mecab-0.996-ko-0.9.2/tests/chartype/test\n",
            "mecab-0.996-ko-0.9.2/tests/chartype/char.def\n",
            "mecab-0.996-ko-0.9.2/tests/chartype/matrix.def\n",
            "mecab-0.996-ko-0.9.2/tests/chartype/test.gld\n",
            "mecab-0.996-ko-0.9.2/tests/run-dics.sh\n",
            "mecab-0.996-ko-0.9.2/tests/ngram/\n",
            "mecab-0.996-ko-0.9.2/tests/ngram/unk.def\n",
            "mecab-0.996-ko-0.9.2/tests/ngram/dicrc\n",
            "mecab-0.996-ko-0.9.2/tests/ngram/dic.csv\n",
            "mecab-0.996-ko-0.9.2/tests/ngram/test\n",
            "mecab-0.996-ko-0.9.2/tests/ngram/char.def\n",
            "mecab-0.996-ko-0.9.2/tests/ngram/matrix.def\n",
            "mecab-0.996-ko-0.9.2/tests/ngram/test.gld\n",
            "mecab-0.996-ko-0.9.2/tests/Makefile.in\n",
            "mecab-0.996-ko-0.9.2/ltmain.sh\n",
            "mecab-0.996-ko-0.9.2/config.rpath\n",
            "mecab-0.996-ko-0.9.2/config.h.in\n",
            "mecab-0.996-ko-0.9.2/mecabrc.in\n",
            "mecab-0.996-ko-0.9.2/GPL\n",
            "mecab-0.996-ko-0.9.2/Makefile.train\n",
            "mecab-0.996-ko-0.9.2/ChangeLog\n",
            "mecab-0.996-ko-0.9.2/install-sh\n",
            "mecab-0.996-ko-0.9.2/AUTHORS\n",
            "mecab-0.996-ko-0.9.2/doc/\n",
            "mecab-0.996-ko-0.9.2/doc/bindings.html\n",
            "mecab-0.996-ko-0.9.2/doc/posid.html\n",
            "mecab-0.996-ko-0.9.2/doc/unk.html\n",
            "mecab-0.996-ko-0.9.2/doc/learn.html\n",
            "mecab-0.996-ko-0.9.2/doc/format.html\n",
            "mecab-0.996-ko-0.9.2/doc/libmecab.html\n",
            "mecab-0.996-ko-0.9.2/doc/mecab.css\n",
            "mecab-0.996-ko-0.9.2/doc/feature.html\n",
            "mecab-0.996-ko-0.9.2/doc/Makefile.am\n",
            "mecab-0.996-ko-0.9.2/doc/soft.html\n",
            "mecab-0.996-ko-0.9.2/doc/en/\n",
            "mecab-0.996-ko-0.9.2/doc/en/bindings.html\n",
            "mecab-0.996-ko-0.9.2/doc/dic-detail.html\n",
            "mecab-0.996-ko-0.9.2/doc/flow.png\n",
            "mecab-0.996-ko-0.9.2/doc/mecab.html\n",
            "mecab-0.996-ko-0.9.2/doc/index.html\n",
            "mecab-0.996-ko-0.9.2/doc/result.png\n",
            "mecab-0.996-ko-0.9.2/doc/doxygen/\n",
            "mecab-0.996-ko-0.9.2/doc/doxygen/tab_a.png\n",
            "mecab-0.996-ko-0.9.2/doc/doxygen/globals_eval.html\n",
            "mecab-0.996-ko-0.9.2/doc/doxygen/classMeCab_1_1Tagger-members.html\n",
            "mecab-0.996-ko-0.9.2/doc/doxygen/functions_vars.html\n",
            "mecab-0.996-ko-0.9.2/doc/doxygen/doxygen.css\n",
            "mecab-0.996-ko-0.9.2/doc/doxygen/tab_r.gif\n",
            "mecab-0.996-ko-0.9.2/doc/doxygen/classMeCab_1_1Lattice.html\n",
            "mecab-0.996-ko-0.9.2/doc/doxygen/functions.html\n",
            "mecab-0.996-ko-0.9.2/doc/doxygen/classMeCab_1_1Tagger.html\n",
            "mecab-0.996-ko-0.9.2/doc/doxygen/mecab_8h_source.html\n",
            "mecab-0.996-ko-0.9.2/doc/doxygen/tabs.css\n",
            "mecab-0.996-ko-0.9.2/doc/doxygen/nav_f.png\n",
            "mecab-0.996-ko-0.9.2/doc/doxygen/tab_b.png\n",
            "mecab-0.996-ko-0.9.2/doc/doxygen/globals.html\n",
            "mecab-0.996-ko-0.9.2/doc/doxygen/nav_h.png\n",
            "mecab-0.996-ko-0.9.2/doc/doxygen/tab_h.png\n",
            "mecab-0.996-ko-0.9.2/doc/doxygen/classMeCab_1_1Model.html\n",
            "mecab-0.996-ko-0.9.2/doc/doxygen/globals_func.html\n",
            "mecab-0.996-ko-0.9.2/doc/doxygen/closed.png\n",
            "mecab-0.996-ko-0.9.2/doc/doxygen/tab_l.gif\n",
            "mecab-0.996-ko-0.9.2/doc/doxygen/structmecab__path__t-members.html\n",
            "mecab-0.996-ko-0.9.2/doc/doxygen/functions_func.html\n",
            "mecab-0.996-ko-0.9.2/doc/doxygen/globals_type.html\n",
            "mecab-0.996-ko-0.9.2/doc/doxygen/classMeCab_1_1Lattice-members.html\n",
            "mecab-0.996-ko-0.9.2/doc/doxygen/structmecab__node__t.html\n",
            "mecab-0.996-ko-0.9.2/doc/doxygen/namespacemembers_func.html\n",
            "mecab-0.996-ko-0.9.2/doc/doxygen/tab_s.png\n",
            "mecab-0.996-ko-0.9.2/doc/doxygen/structmecab__dictionary__info__t-members.html\n",
            "mecab-0.996-ko-0.9.2/doc/doxygen/namespacemembers_type.html\n",
            "mecab-0.996-ko-0.9.2/doc/doxygen/classMeCab_1_1Model-members.html\n",
            "mecab-0.996-ko-0.9.2/doc/doxygen/structmecab__dictionary__info__t.html\n",
            "mecab-0.996-ko-0.9.2/doc/doxygen/namespaces.html\n",
            "mecab-0.996-ko-0.9.2/doc/doxygen/namespacemembers.html\n",
            "mecab-0.996-ko-0.9.2/doc/doxygen/namespaceMeCab.html\n",
            "mecab-0.996-ko-0.9.2/doc/doxygen/structmecab__path__t.html\n",
            "mecab-0.996-ko-0.9.2/doc/doxygen/files.html\n",
            "mecab-0.996-ko-0.9.2/doc/doxygen/structmecab__node__t-members.html\n",
            "mecab-0.996-ko-0.9.2/doc/doxygen/index.html\n",
            "mecab-0.996-ko-0.9.2/doc/doxygen/annotated.html\n",
            "mecab-0.996-ko-0.9.2/doc/doxygen/globals_defs.html\n",
            "mecab-0.996-ko-0.9.2/doc/doxygen/classes.html\n",
            "mecab-0.996-ko-0.9.2/doc/doxygen/mecab_8h-source.html\n",
            "mecab-0.996-ko-0.9.2/doc/doxygen/doxygen.png\n",
            "mecab-0.996-ko-0.9.2/doc/doxygen/tab_b.gif\n",
            "mecab-0.996-ko-0.9.2/doc/doxygen/bc_s.png\n",
            "mecab-0.996-ko-0.9.2/doc/doxygen/open.png\n",
            "mecab-0.996-ko-0.9.2/doc/doxygen/mecab_8h.html\n",
            "mecab-0.996-ko-0.9.2/doc/dic.html\n",
            "mecab-0.996-ko-0.9.2/doc/partial.html\n",
            "mecab-0.996-ko-0.9.2/doc/feature.png\n",
            "mecab-0.996-ko-0.9.2/doc/Makefile.in\n",
            "mecab-0.996-ko-0.9.2/missing\n",
            "mecab-0.996-ko-0.9.2/BSD\n",
            "mecab-0.996-ko-0.9.2/NEWS\n",
            "mecab-0.996-ko-0.9.2/mkinstalldirs\n",
            "mecab-0.996-ko-0.9.2/src/\n",
            "mecab-0.996-ko-0.9.2/src/dictionary.h\n",
            "mecab-0.996-ko-0.9.2/src/writer.h\n",
            "mecab-0.996-ko-0.9.2/src/utils.h\n",
            "mecab-0.996-ko-0.9.2/src/string_buffer.cpp\n",
            "mecab-0.996-ko-0.9.2/src/tokenizer.cpp\n",
            "mecab-0.996-ko-0.9.2/src/make.bat\n",
            "mecab-0.996-ko-0.9.2/src/mecab.h\n",
            "mecab-0.996-ko-0.9.2/src/freelist.h\n",
            "mecab-0.996-ko-0.9.2/src/string_buffer.h\n",
            "mecab-0.996-ko-0.9.2/src/learner_tagger.h\n",
            "mecab-0.996-ko-0.9.2/src/dictionary_compiler.cpp\n",
            "mecab-0.996-ko-0.9.2/src/eval.cpp\n",
            "mecab-0.996-ko-0.9.2/src/mecab-system-eval.cpp\n",
            "mecab-0.996-ko-0.9.2/src/darts.h\n",
            "mecab-0.996-ko-0.9.2/src/param.h\n",
            "mecab-0.996-ko-0.9.2/src/char_property.h\n",
            "mecab-0.996-ko-0.9.2/src/learner_node.h\n",
            "mecab-0.996-ko-0.9.2/src/mecab-dict-gen.cpp\n",
            "mecab-0.996-ko-0.9.2/src/mecab-dict-index.cpp\n",
            "mecab-0.996-ko-0.9.2/src/winmain.h\n",
            "mecab-0.996-ko-0.9.2/src/thread.h\n",
            "mecab-0.996-ko-0.9.2/src/context_id.cpp\n",
            "mecab-0.996-ko-0.9.2/src/Makefile.am\n",
            "mecab-0.996-ko-0.9.2/src/connector.h\n",
            "mecab-0.996-ko-0.9.2/src/common.h\n",
            "mecab-0.996-ko-0.9.2/src/dictionary_rewriter.cpp\n",
            "mecab-0.996-ko-0.9.2/src/Makefile.msvc.in\n",
            "mecab-0.996-ko-0.9.2/src/dictionary_rewriter.h\n",
            "mecab-0.996-ko-0.9.2/src/feature_index.h\n",
            "mecab-0.996-ko-0.9.2/src/iconv_utils.cpp\n",
            "mecab-0.996-ko-0.9.2/src/char_property.cpp\n",
            "mecab-0.996-ko-0.9.2/src/mecab-test-gen.cpp\n",
            "mecab-0.996-ko-0.9.2/src/tagger.cpp\n",
            "mecab-0.996-ko-0.9.2/src/mecab-cost-train.cpp\n",
            "mecab-0.996-ko-0.9.2/src/learner.cpp\n",
            "mecab-0.996-ko-0.9.2/src/dictionary.cpp\n",
            "mecab-0.996-ko-0.9.2/src/lbfgs.cpp\n",
            "mecab-0.996-ko-0.9.2/src/ucs.h\n",
            "mecab-0.996-ko-0.9.2/src/writer.cpp\n",
            "mecab-0.996-ko-0.9.2/src/learner_tagger.cpp\n",
            "mecab-0.996-ko-0.9.2/src/lbfgs.h\n",
            "mecab-0.996-ko-0.9.2/src/libmecab.cpp\n",
            "mecab-0.996-ko-0.9.2/src/tokenizer.h\n",
            "mecab-0.996-ko-0.9.2/src/mecab.cpp\n",
            "mecab-0.996-ko-0.9.2/src/utils.cpp\n",
            "mecab-0.996-ko-0.9.2/src/dictionary_generator.cpp\n",
            "mecab-0.996-ko-0.9.2/src/param.cpp\n",
            "mecab-0.996-ko-0.9.2/src/context_id.h\n",
            "mecab-0.996-ko-0.9.2/src/mmap.h\n",
            "mecab-0.996-ko-0.9.2/src/viterbi.h\n",
            "mecab-0.996-ko-0.9.2/src/viterbi.cpp\n",
            "mecab-0.996-ko-0.9.2/src/stream_wrapper.h\n",
            "mecab-0.996-ko-0.9.2/src/feature_index.cpp\n",
            "mecab-0.996-ko-0.9.2/src/nbest_generator.h\n",
            "mecab-0.996-ko-0.9.2/src/ucstable.h\n",
            "mecab-0.996-ko-0.9.2/src/nbest_generator.cpp\n",
            "mecab-0.996-ko-0.9.2/src/iconv_utils.h\n",
            "mecab-0.996-ko-0.9.2/src/connector.cpp\n",
            "mecab-0.996-ko-0.9.2/src/Makefile.in\n",
            "mecab-0.996-ko-0.9.2/src/scoped_ptr.h\n",
            "mecab-0.996-ko-0.9.2/Makefile.in\n",
            "checking for a BSD-compatible install... /usr/bin/install -c\n",
            "checking whether build environment is sane... yes\n",
            "checking for a thread-safe mkdir -p... /bin/mkdir -p\n",
            "checking for gawk... no\n",
            "checking for mawk... mawk\n",
            "checking whether make sets $(MAKE)... yes\n",
            "checking for gcc... gcc\n",
            "checking whether the C compiler works... yes\n",
            "checking for C compiler default output file name... a.out\n",
            "checking for suffix of executables... \n",
            "checking whether we are cross compiling... no\n",
            "checking for suffix of object files... o\n",
            "checking whether we are using the GNU C compiler... yes\n",
            "checking whether gcc accepts -g... yes\n",
            "checking for gcc option to accept ISO C89... none needed\n",
            "checking for style of include used by make... GNU\n",
            "checking dependency style of gcc... none\n",
            "checking for g++... g++\n",
            "checking whether we are using the GNU C++ compiler... yes\n",
            "checking whether g++ accepts -g... yes\n",
            "checking dependency style of g++... none\n",
            "checking how to run the C preprocessor... gcc -E\n",
            "checking for grep that handles long lines and -e... /bin/grep\n",
            "checking for egrep... /bin/grep -E\n",
            "checking whether gcc needs -traditional... no\n",
            "checking whether make sets $(MAKE)... (cached) yes\n",
            "checking build system type... x86_64-unknown-linux-gnu\n",
            "checking host system type... x86_64-unknown-linux-gnu\n",
            "checking how to print strings... printf\n",
            "checking for a sed that does not truncate output... /bin/sed\n",
            "checking for fgrep... /bin/grep -F\n",
            "checking for ld used by gcc... /usr/bin/ld\n",
            "checking if the linker (/usr/bin/ld) is GNU ld... yes\n",
            "checking for BSD- or MS-compatible name lister (nm)... /usr/bin/nm -B\n",
            "checking the name lister (/usr/bin/nm -B) interface... BSD nm\n",
            "checking whether ln -s works... yes\n",
            "checking the maximum length of command line arguments... 1572864\n",
            "checking whether the shell understands some XSI constructs... yes\n",
            "checking whether the shell understands \"+=\"... yes\n",
            "checking how to convert x86_64-unknown-linux-gnu file names to x86_64-unknown-linux-gnu format... func_convert_file_noop\n",
            "checking how to convert x86_64-unknown-linux-gnu file names to toolchain format... func_convert_file_noop\n",
            "checking for /usr/bin/ld option to reload object files... -r\n",
            "checking for objdump... objdump\n",
            "checking how to recognize dependent libraries... pass_all\n",
            "checking for dlltool... dlltool\n",
            "checking how to associate runtime and link libraries... printf %s\\n\n",
            "checking for ar... ar\n",
            "checking for archiver @FILE support... @\n",
            "checking for strip... strip\n",
            "checking for ranlib... ranlib\n",
            "checking command to parse /usr/bin/nm -B output from gcc object... ok\n",
            "checking for sysroot... no\n",
            "./configure: line 7378: /usr/bin/file: No such file or directory\n",
            "checking for mt... no\n",
            "checking if : is a manifest tool... no\n",
            "checking for ANSI C header files... yes\n",
            "checking for sys/types.h... yes\n",
            "checking for sys/stat.h... yes\n",
            "checking for stdlib.h... yes\n",
            "checking for string.h... yes\n",
            "checking for memory.h... yes\n",
            "checking for strings.h... yes\n",
            "checking for inttypes.h... yes\n",
            "checking for stdint.h... yes\n",
            "checking for unistd.h... yes\n",
            "checking for dlfcn.h... yes\n",
            "checking for objdir... .libs\n",
            "checking if gcc supports -fno-rtti -fno-exceptions... no\n",
            "checking for gcc option to produce PIC... -fPIC -DPIC\n",
            "checking if gcc PIC flag -fPIC -DPIC works... yes\n",
            "checking if gcc static flag -static works... yes\n",
            "checking if gcc supports -c -o file.o... yes\n",
            "checking if gcc supports -c -o file.o... (cached) yes\n",
            "checking whether the gcc linker (/usr/bin/ld) supports shared libraries... yes\n",
            "checking whether -lc should be explicitly linked in... no\n",
            "checking dynamic linker characteristics... GNU/Linux ld.so\n",
            "checking how to hardcode library paths into programs... immediate\n",
            "checking whether stripping libraries is possible... yes\n",
            "checking if libtool supports shared libraries... yes\n",
            "checking whether to build shared libraries... yes\n",
            "checking whether to build static libraries... yes\n",
            "checking how to run the C++ preprocessor... g++ -E\n",
            "checking for ld used by g++... /usr/bin/ld\n",
            "checking if the linker (/usr/bin/ld) is GNU ld... yes\n",
            "checking whether the g++ linker (/usr/bin/ld) supports shared libraries... yes\n",
            "checking for g++ option to produce PIC... -fPIC -DPIC\n",
            "checking if g++ PIC flag -fPIC -DPIC works... yes\n",
            "checking if g++ static flag -static works... yes\n",
            "checking if g++ supports -c -o file.o... yes\n",
            "checking if g++ supports -c -o file.o... (cached) yes\n",
            "checking whether the g++ linker (/usr/bin/ld) supports shared libraries... yes\n",
            "checking dynamic linker characteristics... (cached) GNU/Linux ld.so\n",
            "checking how to hardcode library paths into programs... immediate\n",
            "checking for library containing strerror... none required\n",
            "checking whether byte ordering is bigendian... no\n",
            "checking for ld used by GCC... /usr/bin/ld\n",
            "checking if the linker (/usr/bin/ld) is GNU ld... yes\n",
            "checking for shared library run path origin... done\n",
            "checking for iconv... yes\n",
            "checking for working iconv... yes\n",
            "checking for iconv declaration... \n",
            "         extern size_t iconv (iconv_t cd, char * *inbuf, size_t *inbytesleft, char * *outbuf, size_t *outbytesleft);\n",
            "checking for ANSI C header files... (cached) yes\n",
            "checking for an ANSI C-conforming const... yes\n",
            "checking whether byte ordering is bigendian... (cached) no\n",
            "checking for string.h... (cached) yes\n",
            "checking for stdlib.h... (cached) yes\n",
            "checking for unistd.h... (cached) yes\n",
            "checking fcntl.h usability... yes\n",
            "checking fcntl.h presence... yes\n",
            "checking for fcntl.h... yes\n",
            "checking for stdint.h... (cached) yes\n",
            "checking for sys/stat.h... (cached) yes\n",
            "checking sys/mman.h usability... yes\n",
            "checking sys/mman.h presence... yes\n",
            "checking for sys/mman.h... yes\n",
            "checking sys/times.h usability... yes\n",
            "checking sys/times.h presence... yes\n",
            "checking for sys/times.h... yes\n",
            "checking for sys/types.h... (cached) yes\n",
            "checking dirent.h usability... yes\n",
            "checking dirent.h presence... yes\n",
            "checking for dirent.h... yes\n",
            "checking ctype.h usability... yes\n",
            "checking ctype.h presence... yes\n",
            "checking for ctype.h... yes\n",
            "checking for sys/types.h... (cached) yes\n",
            "checking io.h usability... no\n",
            "checking io.h presence... no\n",
            "checking for io.h... no\n",
            "checking windows.h usability... no\n",
            "checking windows.h presence... no\n",
            "checking for windows.h... no\n",
            "checking pthread.h usability... yes\n",
            "checking pthread.h presence... yes\n",
            "checking for pthread.h... yes\n",
            "checking for off_t... yes\n",
            "checking for size_t... yes\n",
            "checking size of char... 1\n",
            "checking size of short... 2\n",
            "checking size of int... 4\n",
            "checking size of long... 8\n",
            "checking size of long long... 8\n",
            "checking size of size_t... 8\n",
            "checking for size_t... (cached) yes\n",
            "checking for unsigned long long int... yes\n",
            "checking for stdlib.h... (cached) yes\n",
            "checking for unistd.h... (cached) yes\n",
            "checking for sys/param.h... yes\n",
            "checking for getpagesize... yes\n",
            "checking for working mmap... yes\n",
            "checking for main in -lstdc++... yes\n",
            "checking for pthread_create in -lpthread... yes\n",
            "checking for pthread_join in -lpthread... yes\n",
            "checking for getenv... yes\n",
            "checking for opendir... yes\n",
            "checking whether make is GNU Make... yes\n",
            "checking if g++ supports stl <vector> (required)... yes\n",
            "checking if g++ supports stl <list> (required)... yes\n",
            "checking if g++ supports stl <map> (required)... yes\n",
            "checking if g++ supports stl <set> (required)... yes\n",
            "checking if g++ supports stl <queue> (required)... yes\n",
            "checking if g++ supports stl <functional> (required)... yes\n",
            "checking if g++ supports stl <algorithm> (required)... yes\n",
            "checking if g++ supports stl <string> (required)... yes\n",
            "checking if g++ supports stl <iostream> (required)... yes\n",
            "checking if g++ supports stl <sstream> (required)... yes\n",
            "checking if g++ supports stl <fstream> (required)... yes\n",
            "checking if g++ supports template <class T> (required)... yes\n",
            "checking if g++ supports const_cast<> (required)... yes\n",
            "checking if g++ supports static_cast<> (required)... yes\n",
            "checking if g++ supports reinterpret_cast<> (required)... yes\n",
            "checking if g++ supports namespaces (required) ... yes\n",
            "checking if g++ supports __thread (optional)... yes\n",
            "checking if g++ supports template <class T> (required)... yes\n",
            "checking if g++ supports GCC native atomic operations (optional)... yes\n",
            "checking if g++ supports OSX native atomic operations (optional)... no\n",
            "checking if g++ environment provides all required features... yes\n",
            "configure: creating ./config.status\n",
            "config.status: creating Makefile\n",
            "config.status: creating src/Makefile\n",
            "config.status: creating src/Makefile.msvc\n",
            "config.status: creating man/Makefile\n",
            "config.status: creating doc/Makefile\n",
            "config.status: creating tests/Makefile\n",
            "config.status: creating swig/version.h\n",
            "config.status: creating mecab.iss\n",
            "config.status: creating mecab-config\n",
            "config.status: creating mecabrc\n",
            "config.status: creating config.h\n",
            "config.status: config.h is unchanged\n",
            "config.status: executing depfiles commands\n",
            "config.status: executing libtool commands\n",
            "config.status: executing default commands\n",
            "make  all-recursive\n",
            "make[1]: Entering directory '/tmp/mecab-0.996-ko-0.9.2'\n",
            "Making all in src\n",
            "make[2]: Entering directory '/tmp/mecab-0.996-ko-0.9.2/src'\n",
            "make[2]: Nothing to be done for 'all'.\n",
            "make[2]: Leaving directory '/tmp/mecab-0.996-ko-0.9.2/src'\n",
            "Making all in man\n",
            "make[2]: Entering directory '/tmp/mecab-0.996-ko-0.9.2/man'\n",
            "make[2]: Nothing to be done for 'all'.\n",
            "make[2]: Leaving directory '/tmp/mecab-0.996-ko-0.9.2/man'\n",
            "Making all in doc\n",
            "make[2]: Entering directory '/tmp/mecab-0.996-ko-0.9.2/doc'\n",
            "make[2]: Nothing to be done for 'all'.\n",
            "make[2]: Leaving directory '/tmp/mecab-0.996-ko-0.9.2/doc'\n",
            "Making all in tests\n",
            "make[2]: Entering directory '/tmp/mecab-0.996-ko-0.9.2/tests'\n",
            "make[2]: Nothing to be done for 'all'.\n",
            "make[2]: Leaving directory '/tmp/mecab-0.996-ko-0.9.2/tests'\n",
            "make[2]: Entering directory '/tmp/mecab-0.996-ko-0.9.2'\n",
            "make[2]: Leaving directory '/tmp/mecab-0.996-ko-0.9.2'\n",
            "make[1]: Leaving directory '/tmp/mecab-0.996-ko-0.9.2'\n",
            "Making check in src\n",
            "make[1]: Entering directory '/tmp/mecab-0.996-ko-0.9.2/src'\n",
            "make[1]: Nothing to be done for 'check'.\n",
            "make[1]: Leaving directory '/tmp/mecab-0.996-ko-0.9.2/src'\n",
            "Making check in man\n",
            "make[1]: Entering directory '/tmp/mecab-0.996-ko-0.9.2/man'\n",
            "make[1]: Nothing to be done for 'check'.\n",
            "make[1]: Leaving directory '/tmp/mecab-0.996-ko-0.9.2/man'\n",
            "Making check in doc\n",
            "make[1]: Entering directory '/tmp/mecab-0.996-ko-0.9.2/doc'\n",
            "make[1]: Nothing to be done for 'check'.\n",
            "make[1]: Leaving directory '/tmp/mecab-0.996-ko-0.9.2/doc'\n",
            "Making check in tests\n",
            "make[1]: Entering directory '/tmp/mecab-0.996-ko-0.9.2/tests'\n",
            "make  check-TESTS\n",
            "make[2]: Entering directory '/tmp/mecab-0.996-ko-0.9.2/tests'\n",
            "./pos-id.def is not found. minimum setting is used\n",
            "reading ./unk.def ... 2\n",
            "emitting double-array: 100% |###########################################| \n",
            "./model.def is not found. skipped.\n",
            "./pos-id.def is not found. minimum setting is used\n",
            "reading ./dic.csv ... 177\n",
            "emitting double-array: 100% |###########################################| \n",
            "reading ./matrix.def ... 178x178\n",
            "emitting matrix      : 100% |###########################################| \n",
            "\n",
            "done!\n",
            "./pos-id.def is not found. minimum setting is used\n",
            "reading ./unk.def ... 2\n",
            "emitting double-array: 100% |###########################################| \n",
            "./model.def is not found. skipped.\n",
            "./pos-id.def is not found. minimum setting is used\n",
            "reading ./dic.csv ... 83\n",
            "emitting double-array: 100% |###########################################| \n",
            "reading ./matrix.def ... 84x84\n",
            "emitting matrix      : 100% |###########################################| \n",
            "\n",
            "done!\n",
            "./pos-id.def is not found. minimum setting is used\n",
            "reading ./unk.def ... 2\n",
            "emitting double-array: 100% |###########################################| \n",
            "./model.def is not found. skipped.\n",
            "./pos-id.def is not found. minimum setting is used\n",
            "reading ./dic.csv ... 450\n",
            "emitting double-array: 100% |###########################################| \n",
            "reading ./matrix.def ... 1x1\n",
            "\n",
            "done!\n",
            "./pos-id.def is not found. minimum setting is used\n",
            "reading ./unk.def ... 2\n",
            "emitting double-array: 100% |###########################################| \n",
            "./model.def is not found. skipped.\n",
            "./pos-id.def is not found. minimum setting is used\n",
            "reading ./dic.csv ... 162\n",
            "emitting double-array: 100% |###########################################| \n",
            "reading ./matrix.def ... 3x3\n",
            "emitting matrix      : 100% |###########################################| \n",
            "\n",
            "done!\n",
            "./pos-id.def is not found. minimum setting is used\n",
            "reading ./unk.def ... 2\n",
            "emitting double-array: 100% |###########################################| \n",
            "./model.def is not found. skipped.\n",
            "./pos-id.def is not found. minimum setting is used\n",
            "reading ./dic.csv ... 4\n",
            "emitting double-array: 100% |###########################################| \n",
            "reading ./matrix.def ... 1x1\n",
            "\n",
            "done!\n",
            "./pos-id.def is not found. minimum setting is used\n",
            "reading ./unk.def ... 11\n",
            "emitting double-array: 100% |###########################################| \n",
            "./model.def is not found. skipped.\n",
            "./pos-id.def is not found. minimum setting is used\n",
            "reading ./dic.csv ... 1\n",
            "reading ./matrix.def ... 1x1\n",
            "\n",
            "done!\n",
            "./pos-id.def is not found. minimum setting is used\n",
            "reading ./unk.def ... 2\n",
            "emitting double-array: 100% |###########################################| \n",
            "./model.def is not found. skipped.\n",
            "./pos-id.def is not found. minimum setting is used\n",
            "reading ./dic.csv ... 1\n",
            "reading ./matrix.def ... 1x1\n",
            "\n",
            "done!\n",
            "PASS: run-dics.sh\n",
            "PASS: run-eval.sh\n",
            "seed/pos-id.def is not found. minimum setting is used\n",
            "reading seed/unk.def ... 40\n",
            "emitting double-array: 100% |###########################################| \n",
            "seed/model.def is not found. skipped.\n",
            "seed/pos-id.def is not found. minimum setting is used\n",
            "reading seed/dic.csv ... 4335\n",
            "emitting double-array: 100% |###########################################| \n",
            "reading seed/matrix.def ... 1x1\n",
            "\n",
            "done!\n",
            "reading corpus ...\n",
            "Number of sentences: 34\n",
            "Number of features:  64108\n",
            "eta:                 0.00005\n",
            "freq:                1\n",
            "eval-size:           6\n",
            "unk-eval-size:       4\n",
            "threads:             1\n",
            "charset:             EUC-JP\n",
            "C(sigma^2):          1.00000\n",
            "\n",
            "iter=0 err=1.00000 F=0.35771 target=2406.28355 diff=1.00000\n",
            "iter=1 err=0.97059 F=0.65652 target=1484.25231 diff=0.38318\n",
            "iter=2 err=0.91176 F=0.79331 target=863.32765 diff=0.41834\n",
            "iter=3 err=0.85294 F=0.89213 target=596.72480 diff=0.30881\n",
            "iter=4 err=0.61765 F=0.95467 target=336.30744 diff=0.43641\n",
            "iter=5 err=0.50000 F=0.96702 target=246.53039 diff=0.26695\n",
            "iter=6 err=0.35294 F=0.95472 target=188.93963 diff=0.23361\n",
            "iter=7 err=0.20588 F=0.99106 target=168.62665 diff=0.10751\n",
            "iter=8 err=0.05882 F=0.99777 target=158.64865 diff=0.05917\n",
            "iter=9 err=0.08824 F=0.99665 target=154.14530 diff=0.02839\n",
            "iter=10 err=0.08824 F=0.99665 target=151.94257 diff=0.01429\n",
            "iter=11 err=0.02941 F=0.99888 target=147.20825 diff=0.03116\n",
            "iter=12 err=0.00000 F=1.00000 target=147.34956 diff=0.00096\n",
            "iter=13 err=0.02941 F=0.99888 target=146.32592 diff=0.00695\n",
            "iter=14 err=0.00000 F=1.00000 target=145.77299 diff=0.00378\n",
            "iter=15 err=0.02941 F=0.99888 target=145.24641 diff=0.00361\n",
            "iter=16 err=0.00000 F=1.00000 target=144.96490 diff=0.00194\n",
            "iter=17 err=0.02941 F=0.99888 target=144.90246 diff=0.00043\n",
            "iter=18 err=0.00000 F=1.00000 target=144.75959 diff=0.00099\n",
            "iter=19 err=0.00000 F=1.00000 target=144.71727 diff=0.00029\n",
            "iter=20 err=0.00000 F=1.00000 target=144.66337 diff=0.00037\n",
            "iter=21 err=0.00000 F=1.00000 target=144.61349 diff=0.00034\n",
            "iter=22 err=0.00000 F=1.00000 target=144.62987 diff=0.00011\n",
            "iter=23 err=0.00000 F=1.00000 target=144.60060 diff=0.00020\n",
            "iter=24 err=0.00000 F=1.00000 target=144.59125 diff=0.00006\n",
            "iter=25 err=0.00000 F=1.00000 target=144.58619 diff=0.00004\n",
            "iter=26 err=0.00000 F=1.00000 target=144.58219 diff=0.00003\n",
            "iter=27 err=0.00000 F=1.00000 target=144.58059 diff=0.00001\n",
            "\n",
            "Done! writing model file ... \n",
            "model-ipadic.c1.0.f1.model is not a binary model. reopen it as text mode...\n",
            "reading seed/unk.def ... 40\n",
            "reading seed/dic.csv ... 4335\n",
            "emitting model-ipadic.c1.0.f1.dic/left-id.def/ model-ipadic.c1.0.f1.dic/right-id.def\n",
            "emitting model-ipadic.c1.0.f1.dic/unk.def ... 40\n",
            "emitting model-ipadic.c1.0.f1.dic/dic.csv ... 4335\n",
            "emitting matrix      : 100% |###########################################| \n",
            "copying seed/char.def to model-ipadic.c1.0.f1.dic/char.def\n",
            "copying seed/rewrite.def to model-ipadic.c1.0.f1.dic/rewrite.def\n",
            "copying seed/dicrc to model-ipadic.c1.0.f1.dic/dicrc\n",
            "copying seed/feature.def to model-ipadic.c1.0.f1.dic/feature.def\n",
            "copying model-ipadic.c1.0.f1.model to model-ipadic.c1.0.f1.dic/model.def\n",
            "\n",
            "done!\n",
            "model-ipadic.c1.0.f1.dic/pos-id.def is not found. minimum setting is used\n",
            "reading model-ipadic.c1.0.f1.dic/unk.def ... 40\n",
            "emitting double-array: 100% |###########################################| \n",
            "model-ipadic.c1.0.f1.dic/pos-id.def is not found. minimum setting is used\n",
            "reading model-ipadic.c1.0.f1.dic/dic.csv ... 4335\n",
            "emitting double-array: 100% |###########################################| \n",
            "reading model-ipadic.c1.0.f1.dic/matrix.def ... 346x346\n",
            "emitting matrix      : 100% |###########################################| \n",
            "\n",
            "done!\n",
            "              precision          recall         F\n",
            "LEVEL 0:    12.8959(57/442) 11.8998(57/479) 12.3779\n",
            "LEVEL 1:    12.2172(54/442) 11.2735(54/479) 11.7264\n",
            "LEVEL 2:    11.7647(52/442) 10.8559(52/479) 11.2921\n",
            "LEVEL 4:    11.7647(52/442) 10.8559(52/479) 11.2921\n",
            "PASS: run-cost-train.sh\n",
            "==================\n",
            "All 3 tests passed\n",
            "==================\n",
            "make[2]: Leaving directory '/tmp/mecab-0.996-ko-0.9.2/tests'\n",
            "make[1]: Leaving directory '/tmp/mecab-0.996-ko-0.9.2/tests'\n",
            "make[1]: Entering directory '/tmp/mecab-0.996-ko-0.9.2'\n",
            "make[1]: Leaving directory '/tmp/mecab-0.996-ko-0.9.2'\n",
            "Making install in src\n",
            "make[1]: Entering directory '/tmp/mecab-0.996-ko-0.9.2/src'\n",
            "make[2]: Entering directory '/tmp/mecab-0.996-ko-0.9.2/src'\n",
            "test -z \"/usr/local/lib\" || /bin/mkdir -p \"/usr/local/lib\"\n",
            " /bin/bash ../libtool   --mode=install /usr/bin/install -c   libmecab.la '/usr/local/lib'\n",
            "libtool: install: /usr/bin/install -c .libs/libmecab.so.2.0.0 /usr/local/lib/libmecab.so.2.0.0\n",
            "libtool: install: (cd /usr/local/lib && { ln -s -f libmecab.so.2.0.0 libmecab.so.2 || { rm -f libmecab.so.2 && ln -s libmecab.so.2.0.0 libmecab.so.2; }; })\n",
            "libtool: install: (cd /usr/local/lib && { ln -s -f libmecab.so.2.0.0 libmecab.so || { rm -f libmecab.so && ln -s libmecab.so.2.0.0 libmecab.so; }; })\n",
            "libtool: install: /usr/bin/install -c .libs/libmecab.lai /usr/local/lib/libmecab.la\n",
            "libtool: install: /usr/bin/install -c .libs/libmecab.a /usr/local/lib/libmecab.a\n",
            "libtool: install: chmod 644 /usr/local/lib/libmecab.a\n",
            "libtool: install: ranlib /usr/local/lib/libmecab.a\n",
            "libtool: finish: PATH=\"/opt/bin:/usr/local/nvidia/bin:/usr/local/cuda/bin:/usr/local/sbin:/usr/local/bin:/usr/sbin:/usr/bin:/sbin:/bin:/tools/node/bin:/tools/google-cloud-sdk/bin:/sbin\" ldconfig -n /usr/local/lib\n",
            "----------------------------------------------------------------------\n",
            "Libraries have been installed in:\n",
            "   /usr/local/lib\n",
            "\n",
            "If you ever happen to want to link against installed libraries\n",
            "in a given directory, LIBDIR, you must either use libtool, and\n",
            "specify the full pathname of the library, or use the `-LLIBDIR'\n",
            "flag during linking and do at least one of the following:\n",
            "   - add LIBDIR to the `LD_LIBRARY_PATH' environment variable\n",
            "     during execution\n",
            "   - add LIBDIR to the `LD_RUN_PATH' environment variable\n",
            "     during linking\n",
            "   - use the `-Wl,-rpath -Wl,LIBDIR' linker flag\n",
            "   - have your system administrator add LIBDIR to `/etc/ld.so.conf'\n",
            "\n",
            "See any operating system documentation about shared libraries for\n",
            "more information, such as the ld(1) and ld.so(8) manual pages.\n",
            "----------------------------------------------------------------------\n",
            "test -z \"/usr/local/bin\" || /bin/mkdir -p \"/usr/local/bin\"\n",
            "  /bin/bash ../libtool   --mode=install /usr/bin/install -c mecab '/usr/local/bin'\n",
            "libtool: install: /usr/bin/install -c .libs/mecab /usr/local/bin/mecab\n",
            "test -z \"/usr/local/libexec/mecab\" || /bin/mkdir -p \"/usr/local/libexec/mecab\"\n",
            "  /bin/bash ../libtool   --mode=install /usr/bin/install -c mecab-dict-index mecab-dict-gen mecab-cost-train mecab-system-eval mecab-test-gen '/usr/local/libexec/mecab'\n",
            "libtool: install: /usr/bin/install -c .libs/mecab-dict-index /usr/local/libexec/mecab/mecab-dict-index\n",
            "libtool: install: /usr/bin/install -c .libs/mecab-dict-gen /usr/local/libexec/mecab/mecab-dict-gen\n",
            "libtool: install: /usr/bin/install -c .libs/mecab-cost-train /usr/local/libexec/mecab/mecab-cost-train\n",
            "libtool: install: /usr/bin/install -c .libs/mecab-system-eval /usr/local/libexec/mecab/mecab-system-eval\n",
            "libtool: install: /usr/bin/install -c .libs/mecab-test-gen /usr/local/libexec/mecab/mecab-test-gen\n",
            "test -z \"/usr/local/include\" || /bin/mkdir -p \"/usr/local/include\"\n",
            " /usr/bin/install -c -m 644 mecab.h '/usr/local/include'\n",
            "make[2]: Leaving directory '/tmp/mecab-0.996-ko-0.9.2/src'\n",
            "make[1]: Leaving directory '/tmp/mecab-0.996-ko-0.9.2/src'\n",
            "Making install in man\n",
            "make[1]: Entering directory '/tmp/mecab-0.996-ko-0.9.2/man'\n",
            "make[2]: Entering directory '/tmp/mecab-0.996-ko-0.9.2/man'\n",
            "make[2]: Nothing to be done for 'install-exec-am'.\n",
            "test -z \"/usr/local/share/man/man1\" || /bin/mkdir -p \"/usr/local/share/man/man1\"\n",
            " /usr/bin/install -c -m 644 mecab.1 '/usr/local/share/man/man1'\n",
            "make[2]: Leaving directory '/tmp/mecab-0.996-ko-0.9.2/man'\n",
            "make[1]: Leaving directory '/tmp/mecab-0.996-ko-0.9.2/man'\n",
            "Making install in doc\n",
            "make[1]: Entering directory '/tmp/mecab-0.996-ko-0.9.2/doc'\n",
            "make[2]: Entering directory '/tmp/mecab-0.996-ko-0.9.2/doc'\n",
            "make[2]: Nothing to be done for 'install-exec-am'.\n",
            "make[2]: Nothing to be done for 'install-data-am'.\n",
            "make[2]: Leaving directory '/tmp/mecab-0.996-ko-0.9.2/doc'\n",
            "make[1]: Leaving directory '/tmp/mecab-0.996-ko-0.9.2/doc'\n",
            "Making install in tests\n",
            "make[1]: Entering directory '/tmp/mecab-0.996-ko-0.9.2/tests'\n",
            "make[2]: Entering directory '/tmp/mecab-0.996-ko-0.9.2/tests'\n",
            "make[2]: Nothing to be done for 'install-exec-am'.\n",
            "make[2]: Nothing to be done for 'install-data-am'.\n",
            "make[2]: Leaving directory '/tmp/mecab-0.996-ko-0.9.2/tests'\n",
            "make[1]: Leaving directory '/tmp/mecab-0.996-ko-0.9.2/tests'\n",
            "make[1]: Entering directory '/tmp/mecab-0.996-ko-0.9.2'\n",
            "make[2]: Entering directory '/tmp/mecab-0.996-ko-0.9.2'\n",
            "test -z \"/usr/local/bin\" || /bin/mkdir -p \"/usr/local/bin\"\n",
            " /usr/bin/install -c mecab-config '/usr/local/bin'\n",
            "test -z \"/usr/local/etc\" || /bin/mkdir -p \"/usr/local/etc\"\n",
            " /usr/bin/install -c -m 644 mecabrc '/usr/local/etc'\n",
            "make[2]: Leaving directory '/tmp/mecab-0.996-ko-0.9.2'\n",
            "make[1]: Leaving directory '/tmp/mecab-0.996-ko-0.9.2'\n",
            "/sbin/ldconfig.real: /usr/local/lib/python3.7/dist-packages/ideep4py/lib/libmkldnn.so.0 is not a symbolic link\n",
            "\n",
            "--2022-07-05 02:54:03--  https://www.dropbox.com/s/i8girnk5p80076c/mecab-ko-dic-2.1.1-20180720.tar.gz?dl=1\n",
            "Resolving www.dropbox.com (www.dropbox.com)... 162.125.5.18, 2620:100:601d:18::a27d:512\n",
            "Connecting to www.dropbox.com (www.dropbox.com)|162.125.5.18|:443... connected.\n",
            "HTTP request sent, awaiting response... 301 Moved Permanently\n",
            "Location: /s/dl/i8girnk5p80076c/mecab-ko-dic-2.1.1-20180720.tar.gz [following]\n",
            "--2022-07-05 02:54:03--  https://www.dropbox.com/s/dl/i8girnk5p80076c/mecab-ko-dic-2.1.1-20180720.tar.gz\n",
            "Reusing existing connection to www.dropbox.com:443.\n",
            "HTTP request sent, awaiting response... 302 Found\n",
            "Location: https://ucfe532b7de4fa612fddba570fa3.dl.dropboxusercontent.com/cd/0/get/BodkNavU3hXmP_bGOV7xF34_jExnsovW-p3tvZfHXfaDzE77YbaFJ1VzZMdF5NDtsSO0hF-aPn8unWSRxXvs2E7O34H_xUHTfnmMeBZ1iJGPIwq1CssZtSTz6geuePLQ2sFxcnbum7BZdn2EC6df3g1vqA4Qvun4ylTiFoBYZz_ZFzq656Ml52mvlrXHjh59LHA/file?dl=1# [following]\n",
            "--2022-07-05 02:54:04--  https://ucfe532b7de4fa612fddba570fa3.dl.dropboxusercontent.com/cd/0/get/BodkNavU3hXmP_bGOV7xF34_jExnsovW-p3tvZfHXfaDzE77YbaFJ1VzZMdF5NDtsSO0hF-aPn8unWSRxXvs2E7O34H_xUHTfnmMeBZ1iJGPIwq1CssZtSTz6geuePLQ2sFxcnbum7BZdn2EC6df3g1vqA4Qvun4ylTiFoBYZz_ZFzq656Ml52mvlrXHjh59LHA/file?dl=1\n",
            "Resolving ucfe532b7de4fa612fddba570fa3.dl.dropboxusercontent.com (ucfe532b7de4fa612fddba570fa3.dl.dropboxusercontent.com)... 162.125.5.15, 2620:100:601d:15::a27d:50f\n",
            "Connecting to ucfe532b7de4fa612fddba570fa3.dl.dropboxusercontent.com (ucfe532b7de4fa612fddba570fa3.dl.dropboxusercontent.com)|162.125.5.15|:443... connected.\n",
            "HTTP request sent, awaiting response... 200 OK\n",
            "Length: 49775061 (47M) [application/binary]\n",
            "Saving to: ‘mecab-ko-dic-2.1.1-20180720.tar.gz?dl=1.1’\n",
            "\n",
            "mecab-ko-dic-2.1.1- 100%[===================>]  47.47M  79.0MB/s    in 0.6s    \n",
            "\n",
            "2022-07-05 02:54:05 (79.0 MB/s) - ‘mecab-ko-dic-2.1.1-20180720.tar.gz?dl=1.1’ saved [49775061/49775061]\n",
            "\n",
            "Reading package lists... Done\n",
            "Building dependency tree       \n",
            "Reading state information... Done\n",
            "autoconf is already the newest version (2.69-11).\n",
            "The following package was automatically installed and is no longer required:\n",
            "  libnvidia-common-460\n",
            "Use 'apt autoremove' to remove it.\n",
            "0 upgraded, 0 newly installed, 0 to remove and 49 not upgraded.\n",
            "mecab-ko-dic-2.1.1-20180720/\n",
            "mecab-ko-dic-2.1.1-20180720/configure\n",
            "mecab-ko-dic-2.1.1-20180720/COPYING\n",
            "mecab-ko-dic-2.1.1-20180720/autogen.sh\n",
            "mecab-ko-dic-2.1.1-20180720/Place-station.csv\n",
            "mecab-ko-dic-2.1.1-20180720/NNG.csv\n",
            "mecab-ko-dic-2.1.1-20180720/README\n",
            "mecab-ko-dic-2.1.1-20180720/EF.csv\n",
            "mecab-ko-dic-2.1.1-20180720/MAG.csv\n",
            "mecab-ko-dic-2.1.1-20180720/Preanalysis.csv\n",
            "mecab-ko-dic-2.1.1-20180720/NNB.csv\n",
            "mecab-ko-dic-2.1.1-20180720/Person-actor.csv\n",
            "mecab-ko-dic-2.1.1-20180720/VV.csv\n",
            "mecab-ko-dic-2.1.1-20180720/Makefile.in\n",
            "mecab-ko-dic-2.1.1-20180720/matrix.def\n",
            "mecab-ko-dic-2.1.1-20180720/EC.csv\n",
            "mecab-ko-dic-2.1.1-20180720/NNBC.csv\n",
            "mecab-ko-dic-2.1.1-20180720/clean\n",
            "mecab-ko-dic-2.1.1-20180720/ChangeLog\n",
            "mecab-ko-dic-2.1.1-20180720/J.csv\n",
            "mecab-ko-dic-2.1.1-20180720/.keep\n",
            "mecab-ko-dic-2.1.1-20180720/feature.def\n",
            "mecab-ko-dic-2.1.1-20180720/Foreign.csv\n",
            "mecab-ko-dic-2.1.1-20180720/XPN.csv\n",
            "mecab-ko-dic-2.1.1-20180720/EP.csv\n",
            "mecab-ko-dic-2.1.1-20180720/NR.csv\n",
            "mecab-ko-dic-2.1.1-20180720/left-id.def\n",
            "mecab-ko-dic-2.1.1-20180720/Place.csv\n",
            "mecab-ko-dic-2.1.1-20180720/Symbol.csv\n",
            "mecab-ko-dic-2.1.1-20180720/dicrc\n",
            "mecab-ko-dic-2.1.1-20180720/NP.csv\n",
            "mecab-ko-dic-2.1.1-20180720/ETM.csv\n",
            "mecab-ko-dic-2.1.1-20180720/IC.csv\n",
            "mecab-ko-dic-2.1.1-20180720/Place-address.csv\n",
            "mecab-ko-dic-2.1.1-20180720/Group.csv\n",
            "mecab-ko-dic-2.1.1-20180720/model.def\n",
            "mecab-ko-dic-2.1.1-20180720/XSN.csv\n",
            "mecab-ko-dic-2.1.1-20180720/INSTALL\n",
            "mecab-ko-dic-2.1.1-20180720/rewrite.def\n",
            "mecab-ko-dic-2.1.1-20180720/Inflect.csv\n",
            "mecab-ko-dic-2.1.1-20180720/configure.ac\n",
            "mecab-ko-dic-2.1.1-20180720/NNP.csv\n",
            "mecab-ko-dic-2.1.1-20180720/CoinedWord.csv\n",
            "mecab-ko-dic-2.1.1-20180720/XSV.csv\n",
            "mecab-ko-dic-2.1.1-20180720/pos-id.def\n",
            "mecab-ko-dic-2.1.1-20180720/Makefile.am\n",
            "mecab-ko-dic-2.1.1-20180720/unk.def\n",
            "mecab-ko-dic-2.1.1-20180720/missing\n",
            "mecab-ko-dic-2.1.1-20180720/VCP.csv\n",
            "mecab-ko-dic-2.1.1-20180720/install-sh\n",
            "mecab-ko-dic-2.1.1-20180720/Hanja.csv\n",
            "mecab-ko-dic-2.1.1-20180720/MAJ.csv\n",
            "mecab-ko-dic-2.1.1-20180720/XSA.csv\n",
            "mecab-ko-dic-2.1.1-20180720/Wikipedia.csv\n",
            "mecab-ko-dic-2.1.1-20180720/tools/\n",
            "mecab-ko-dic-2.1.1-20180720/tools/add-userdic.sh\n",
            "mecab-ko-dic-2.1.1-20180720/tools/mecab-bestn.sh\n",
            "mecab-ko-dic-2.1.1-20180720/tools/convert_for_using_store.sh\n",
            "mecab-ko-dic-2.1.1-20180720/user-dic/\n",
            "mecab-ko-dic-2.1.1-20180720/user-dic/nnp.csv\n",
            "mecab-ko-dic-2.1.1-20180720/user-dic/place.csv\n",
            "mecab-ko-dic-2.1.1-20180720/user-dic/person.csv\n",
            "mecab-ko-dic-2.1.1-20180720/user-dic/README.md\n",
            "mecab-ko-dic-2.1.1-20180720/NorthKorea.csv\n",
            "mecab-ko-dic-2.1.1-20180720/VX.csv\n",
            "mecab-ko-dic-2.1.1-20180720/right-id.def\n",
            "mecab-ko-dic-2.1.1-20180720/VA.csv\n",
            "mecab-ko-dic-2.1.1-20180720/char.def\n",
            "mecab-ko-dic-2.1.1-20180720/NEWS\n",
            "mecab-ko-dic-2.1.1-20180720/MM.csv\n",
            "mecab-ko-dic-2.1.1-20180720/ETN.csv\n",
            "mecab-ko-dic-2.1.1-20180720/AUTHORS\n",
            "mecab-ko-dic-2.1.1-20180720/Person.csv\n",
            "mecab-ko-dic-2.1.1-20180720/XR.csv\n",
            "mecab-ko-dic-2.1.1-20180720/VCN.csv\n",
            "Looking in current directory for macros.\n",
            "configure.ac:2: warning: AM_INIT_AUTOMAKE: two- and three-arguments forms are deprecated.  For more info, see:\n",
            "configure.ac:2: http://www.gnu.org/software/automake/manual/automake.html#Modernize-AM_005fINIT_005fAUTOMAKE-invocation\n",
            "checking for a BSD-compatible install... /usr/bin/install -c\n",
            "checking whether build environment is sane... yes\n",
            "/tmp/mecab-ko-dic-2.1.1-20180720/missing: Unknown `--is-lightweight' option\n",
            "Try `/tmp/mecab-ko-dic-2.1.1-20180720/missing --help' for more information\n",
            "configure: WARNING: 'missing' script is too old or missing\n",
            "checking for a thread-safe mkdir -p... /bin/mkdir -p\n",
            "checking for gawk... no\n",
            "checking for mawk... mawk\n",
            "checking whether make sets $(MAKE)... yes\n",
            "checking whether make supports nested variables... yes\n",
            "checking for mecab-config... /usr/local/bin/mecab-config\n",
            "checking that generated files are newer than configure... done\n",
            "configure: creating ./config.status\n",
            "config.status: creating Makefile\n",
            "make: Nothing to be done for 'all'.\n",
            "make[1]: Entering directory '/tmp/mecab-ko-dic-2.1.1-20180720'\n",
            "make[1]: Nothing to be done for 'install-exec-am'.\n",
            " /bin/mkdir -p '/usr/local/lib/mecab/dic/mecab-ko-dic'\n",
            " /usr/bin/install -c -m 644 model.bin matrix.bin char.bin sys.dic unk.dic left-id.def right-id.def rewrite.def pos-id.def dicrc '/usr/local/lib/mecab/dic/mecab-ko-dic'\n",
            "make[1]: Leaving directory '/tmp/mecab-ko-dic-2.1.1-20180720'\n",
            "/sbin/ldconfig.real: /usr/local/lib/python3.7/dist-packages/ideep4py/lib/libmkldnn.so.0 is not a symbolic link\n",
            "\n",
            "fatal: destination path 'mecab-python-0.996' already exists and is not an empty directory.\n",
            "Looking in indexes: https://pypi.org/simple, https://us-python.pkg.dev/colab-wheels/public/simple/\n",
            "Requirement already satisfied: konlpy in /usr/local/lib/python3.7/dist-packages (0.6.0)\n",
            "Requirement already satisfied: lxml>=4.1.0 in /usr/local/lib/python3.7/dist-packages (from konlpy) (4.2.6)\n",
            "Requirement already satisfied: numpy>=1.6 in /usr/local/lib/python3.7/dist-packages (from konlpy) (1.21.6)\n",
            "Requirement already satisfied: JPype1>=0.7.0 in /usr/local/lib/python3.7/dist-packages (from konlpy) (1.4.0)\n",
            "Requirement already satisfied: typing-extensions in /usr/local/lib/python3.7/dist-packages (from JPype1>=0.7.0->konlpy) (4.1.1)\n"
          ]
        }
      ]
    },
    {
      "cell_type": "code",
      "source": [
        "!pip install sentencepiece"
      ],
      "metadata": {
        "colab": {
          "base_uri": "https://localhost:8080/"
        },
        "id": "sICdy5yALHse",
        "outputId": "35a59694-71c9-48e2-c86e-96ec0cc138f5"
      },
      "id": "sICdy5yALHse",
      "execution_count": null,
      "outputs": [
        {
          "output_type": "stream",
          "name": "stdout",
          "text": [
            "Looking in indexes: https://pypi.org/simple, https://us-python.pkg.dev/colab-wheels/public/simple/\n",
            "Requirement already satisfied: sentencepiece in /usr/local/lib/python3.7/dist-packages (0.1.96)\n"
          ]
        }
      ]
    },
    {
      "cell_type": "code",
      "execution_count": null,
      "id": "modified-equivalent",
      "metadata": {
        "id": "modified-equivalent"
      },
      "outputs": [],
      "source": [
        "import os   #디렉토리 관리\n",
        "import numpy as np   #행렬 연산\n",
        "import pandas as pd   #데이터 프레임\n",
        "import matplotlib.pyplot as plt   #데이터 시각화\n",
        "from sklearn.model_selection import train_test_split\n",
        "\n",
        "import tensorflow as tf   #신경망\n",
        "from tensorflow import keras   #신경망\n",
        "\n",
        "from konlpy.tag import Mecab   #Mecab\n",
        "import sentencepiece as spm   #sentencePiece"
      ]
    },
    {
      "cell_type": "code",
      "source": [
        "from google.colab import drive\n",
        "drive.mount('/content/drive')"
      ],
      "metadata": {
        "colab": {
          "base_uri": "https://localhost:8080/"
        },
        "id": "gp7d1rGIQaC8",
        "outputId": "ccf940a1-c698-42e4-94fc-e0b00c0150da"
      },
      "id": "gp7d1rGIQaC8",
      "execution_count": null,
      "outputs": [
        {
          "output_type": "stream",
          "name": "stdout",
          "text": [
            "Drive already mounted at /content/drive; to attempt to forcibly remount, call drive.mount(\"/content/drive\", force_remount=True).\n"
          ]
        }
      ]
    },
    {
      "cell_type": "markdown",
      "id": "indirect-fruit",
      "metadata": {
        "id": "indirect-fruit"
      },
      "source": [
        "<br>\n",
        "\n",
        "#### 데이터셋 불러오기\n",
        "***\n",
        "+ 예제에 사용되는 학습 데이터를 불러옵니다.\n",
        "\n",
        "\n",
        "+ 데이터셋은 박은정 박사가 2015년 8월에 발표한 『Naver sentiment movie corpus v1.0』에서 제시된 데이터셋 입니다.\n",
        "***"
      ]
    },
    {
      "cell_type": "code",
      "execution_count": null,
      "id": "considered-twelve",
      "metadata": {
        "colab": {
          "base_uri": "https://localhost:8080/",
          "height": 395
        },
        "id": "considered-twelve",
        "outputId": "69be4b37-3cdc-4c32-c73d-1ebf8f8e2acb"
      },
      "outputs": [
        {
          "output_type": "display_data",
          "data": {
            "text/plain": [
              "             id                                           document  label\n",
              "78122   9238213                                     우와 진짜 재밌다 꼭보세요      1\n",
              "58749   7294840       개콘 개그맨들 더빙들 하는데 이젠 그만 했으면 좋겠네요.. 더빙도 연기인데...      0\n",
              "110751  9637869  너무너무 무서워요ㅜ공포영화보다 더.. ㅠ 리암 니슨 아저씨랑 연쇄살인마 2명 연기를...      1\n",
              "146929  9537192                                    악마는 눈물조차도 역겨울 뿐      1\n",
              "141487  4571242                                              .....      0"
            ],
            "text/html": [
              "\n",
              "  <div id=\"df-89dc9da1-5164-4296-927d-a36c8308d531\">\n",
              "    <div class=\"colab-df-container\">\n",
              "      <div>\n",
              "<style scoped>\n",
              "    .dataframe tbody tr th:only-of-type {\n",
              "        vertical-align: middle;\n",
              "    }\n",
              "\n",
              "    .dataframe tbody tr th {\n",
              "        vertical-align: top;\n",
              "    }\n",
              "\n",
              "    .dataframe thead th {\n",
              "        text-align: right;\n",
              "    }\n",
              "</style>\n",
              "<table border=\"1\" class=\"dataframe\">\n",
              "  <thead>\n",
              "    <tr style=\"text-align: right;\">\n",
              "      <th></th>\n",
              "      <th>id</th>\n",
              "      <th>document</th>\n",
              "      <th>label</th>\n",
              "    </tr>\n",
              "  </thead>\n",
              "  <tbody>\n",
              "    <tr>\n",
              "      <th>78122</th>\n",
              "      <td>9238213</td>\n",
              "      <td>우와 진짜 재밌다 꼭보세요</td>\n",
              "      <td>1</td>\n",
              "    </tr>\n",
              "    <tr>\n",
              "      <th>58749</th>\n",
              "      <td>7294840</td>\n",
              "      <td>개콘 개그맨들 더빙들 하는데 이젠 그만 했으면 좋겠네요.. 더빙도 연기인데...</td>\n",
              "      <td>0</td>\n",
              "    </tr>\n",
              "    <tr>\n",
              "      <th>110751</th>\n",
              "      <td>9637869</td>\n",
              "      <td>너무너무 무서워요ㅜ공포영화보다 더.. ㅠ 리암 니슨 아저씨랑 연쇄살인마 2명 연기를...</td>\n",
              "      <td>1</td>\n",
              "    </tr>\n",
              "    <tr>\n",
              "      <th>146929</th>\n",
              "      <td>9537192</td>\n",
              "      <td>악마는 눈물조차도 역겨울 뿐</td>\n",
              "      <td>1</td>\n",
              "    </tr>\n",
              "    <tr>\n",
              "      <th>141487</th>\n",
              "      <td>4571242</td>\n",
              "      <td>.....</td>\n",
              "      <td>0</td>\n",
              "    </tr>\n",
              "  </tbody>\n",
              "</table>\n",
              "</div>\n",
              "      <button class=\"colab-df-convert\" onclick=\"convertToInteractive('df-89dc9da1-5164-4296-927d-a36c8308d531')\"\n",
              "              title=\"Convert this dataframe to an interactive table.\"\n",
              "              style=\"display:none;\">\n",
              "        \n",
              "  <svg xmlns=\"http://www.w3.org/2000/svg\" height=\"24px\"viewBox=\"0 0 24 24\"\n",
              "       width=\"24px\">\n",
              "    <path d=\"M0 0h24v24H0V0z\" fill=\"none\"/>\n",
              "    <path d=\"M18.56 5.44l.94 2.06.94-2.06 2.06-.94-2.06-.94-.94-2.06-.94 2.06-2.06.94zm-11 1L8.5 8.5l.94-2.06 2.06-.94-2.06-.94L8.5 2.5l-.94 2.06-2.06.94zm10 10l.94 2.06.94-2.06 2.06-.94-2.06-.94-.94-2.06-.94 2.06-2.06.94z\"/><path d=\"M17.41 7.96l-1.37-1.37c-.4-.4-.92-.59-1.43-.59-.52 0-1.04.2-1.43.59L10.3 9.45l-7.72 7.72c-.78.78-.78 2.05 0 2.83L4 21.41c.39.39.9.59 1.41.59.51 0 1.02-.2 1.41-.59l7.78-7.78 2.81-2.81c.8-.78.8-2.07 0-2.86zM5.41 20L4 18.59l7.72-7.72 1.47 1.35L5.41 20z\"/>\n",
              "  </svg>\n",
              "      </button>\n",
              "      \n",
              "  <style>\n",
              "    .colab-df-container {\n",
              "      display:flex;\n",
              "      flex-wrap:wrap;\n",
              "      gap: 12px;\n",
              "    }\n",
              "\n",
              "    .colab-df-convert {\n",
              "      background-color: #E8F0FE;\n",
              "      border: none;\n",
              "      border-radius: 50%;\n",
              "      cursor: pointer;\n",
              "      display: none;\n",
              "      fill: #1967D2;\n",
              "      height: 32px;\n",
              "      padding: 0 0 0 0;\n",
              "      width: 32px;\n",
              "    }\n",
              "\n",
              "    .colab-df-convert:hover {\n",
              "      background-color: #E2EBFA;\n",
              "      box-shadow: 0px 1px 2px rgba(60, 64, 67, 0.3), 0px 1px 3px 1px rgba(60, 64, 67, 0.15);\n",
              "      fill: #174EA6;\n",
              "    }\n",
              "\n",
              "    [theme=dark] .colab-df-convert {\n",
              "      background-color: #3B4455;\n",
              "      fill: #D2E3FC;\n",
              "    }\n",
              "\n",
              "    [theme=dark] .colab-df-convert:hover {\n",
              "      background-color: #434B5C;\n",
              "      box-shadow: 0px 1px 3px 1px rgba(0, 0, 0, 0.15);\n",
              "      filter: drop-shadow(0px 1px 2px rgba(0, 0, 0, 0.3));\n",
              "      fill: #FFFFFF;\n",
              "    }\n",
              "  </style>\n",
              "\n",
              "      <script>\n",
              "        const buttonEl =\n",
              "          document.querySelector('#df-89dc9da1-5164-4296-927d-a36c8308d531 button.colab-df-convert');\n",
              "        buttonEl.style.display =\n",
              "          google.colab.kernel.accessAllowed ? 'block' : 'none';\n",
              "\n",
              "        async function convertToInteractive(key) {\n",
              "          const element = document.querySelector('#df-89dc9da1-5164-4296-927d-a36c8308d531');\n",
              "          const dataTable =\n",
              "            await google.colab.kernel.invokeFunction('convertToInteractive',\n",
              "                                                     [key], {});\n",
              "          if (!dataTable) return;\n",
              "\n",
              "          const docLinkHtml = 'Like what you see? Visit the ' +\n",
              "            '<a target=\"_blank\" href=https://colab.research.google.com/notebooks/data_table.ipynb>data table notebook</a>'\n",
              "            + ' to learn more about interactive tables.';\n",
              "          element.innerHTML = '';\n",
              "          dataTable['output_type'] = 'display_data';\n",
              "          await google.colab.output.renderOutput(dataTable, element);\n",
              "          const docLink = document.createElement('div');\n",
              "          docLink.innerHTML = docLinkHtml;\n",
              "          element.appendChild(docLink);\n",
              "        }\n",
              "      </script>\n",
              "    </div>\n",
              "  </div>\n",
              "  "
            ]
          },
          "metadata": {}
        },
        {
          "output_type": "display_data",
          "data": {
            "text/plain": [
              "            id                                           document  label\n",
              "21818  9711108  신파극이 될 수도 있는 줄거리를 유머와 희망으로 근사하게 만들었다. 계속 헤엄쳐~는...      1\n",
              "14961  8926393                      아니 이걸 영화라고 .. ㅠㅠ심지어 지금 상영중ㅋㅋㅋ      0\n",
              "49863  2091926                    여배우도 이쁘지만 남우의 우수젖은 눈빛이 기억에 남는영화      1\n",
              "29393   972876                        산만하고 복수가 밋밋하다 졸작인데비해 평점이 높다      0\n",
              "44185   756058                        지금시대엔 진부하지만.비디오시절 최고의 액션영화.      1"
            ],
            "text/html": [
              "\n",
              "  <div id=\"df-5f891f1f-3ed8-4540-b8d3-72c74768c37b\">\n",
              "    <div class=\"colab-df-container\">\n",
              "      <div>\n",
              "<style scoped>\n",
              "    .dataframe tbody tr th:only-of-type {\n",
              "        vertical-align: middle;\n",
              "    }\n",
              "\n",
              "    .dataframe tbody tr th {\n",
              "        vertical-align: top;\n",
              "    }\n",
              "\n",
              "    .dataframe thead th {\n",
              "        text-align: right;\n",
              "    }\n",
              "</style>\n",
              "<table border=\"1\" class=\"dataframe\">\n",
              "  <thead>\n",
              "    <tr style=\"text-align: right;\">\n",
              "      <th></th>\n",
              "      <th>id</th>\n",
              "      <th>document</th>\n",
              "      <th>label</th>\n",
              "    </tr>\n",
              "  </thead>\n",
              "  <tbody>\n",
              "    <tr>\n",
              "      <th>21818</th>\n",
              "      <td>9711108</td>\n",
              "      <td>신파극이 될 수도 있는 줄거리를 유머와 희망으로 근사하게 만들었다. 계속 헤엄쳐~는...</td>\n",
              "      <td>1</td>\n",
              "    </tr>\n",
              "    <tr>\n",
              "      <th>14961</th>\n",
              "      <td>8926393</td>\n",
              "      <td>아니 이걸 영화라고 .. ㅠㅠ심지어 지금 상영중ㅋㅋㅋ</td>\n",
              "      <td>0</td>\n",
              "    </tr>\n",
              "    <tr>\n",
              "      <th>49863</th>\n",
              "      <td>2091926</td>\n",
              "      <td>여배우도 이쁘지만 남우의 우수젖은 눈빛이 기억에 남는영화</td>\n",
              "      <td>1</td>\n",
              "    </tr>\n",
              "    <tr>\n",
              "      <th>29393</th>\n",
              "      <td>972876</td>\n",
              "      <td>산만하고 복수가 밋밋하다 졸작인데비해 평점이 높다</td>\n",
              "      <td>0</td>\n",
              "    </tr>\n",
              "    <tr>\n",
              "      <th>44185</th>\n",
              "      <td>756058</td>\n",
              "      <td>지금시대엔 진부하지만.비디오시절 최고의 액션영화.</td>\n",
              "      <td>1</td>\n",
              "    </tr>\n",
              "  </tbody>\n",
              "</table>\n",
              "</div>\n",
              "      <button class=\"colab-df-convert\" onclick=\"convertToInteractive('df-5f891f1f-3ed8-4540-b8d3-72c74768c37b')\"\n",
              "              title=\"Convert this dataframe to an interactive table.\"\n",
              "              style=\"display:none;\">\n",
              "        \n",
              "  <svg xmlns=\"http://www.w3.org/2000/svg\" height=\"24px\"viewBox=\"0 0 24 24\"\n",
              "       width=\"24px\">\n",
              "    <path d=\"M0 0h24v24H0V0z\" fill=\"none\"/>\n",
              "    <path d=\"M18.56 5.44l.94 2.06.94-2.06 2.06-.94-2.06-.94-.94-2.06-.94 2.06-2.06.94zm-11 1L8.5 8.5l.94-2.06 2.06-.94-2.06-.94L8.5 2.5l-.94 2.06-2.06.94zm10 10l.94 2.06.94-2.06 2.06-.94-2.06-.94-.94-2.06-.94 2.06-2.06.94z\"/><path d=\"M17.41 7.96l-1.37-1.37c-.4-.4-.92-.59-1.43-.59-.52 0-1.04.2-1.43.59L10.3 9.45l-7.72 7.72c-.78.78-.78 2.05 0 2.83L4 21.41c.39.39.9.59 1.41.59.51 0 1.02-.2 1.41-.59l7.78-7.78 2.81-2.81c.8-.78.8-2.07 0-2.86zM5.41 20L4 18.59l7.72-7.72 1.47 1.35L5.41 20z\"/>\n",
              "  </svg>\n",
              "      </button>\n",
              "      \n",
              "  <style>\n",
              "    .colab-df-container {\n",
              "      display:flex;\n",
              "      flex-wrap:wrap;\n",
              "      gap: 12px;\n",
              "    }\n",
              "\n",
              "    .colab-df-convert {\n",
              "      background-color: #E8F0FE;\n",
              "      border: none;\n",
              "      border-radius: 50%;\n",
              "      cursor: pointer;\n",
              "      display: none;\n",
              "      fill: #1967D2;\n",
              "      height: 32px;\n",
              "      padding: 0 0 0 0;\n",
              "      width: 32px;\n",
              "    }\n",
              "\n",
              "    .colab-df-convert:hover {\n",
              "      background-color: #E2EBFA;\n",
              "      box-shadow: 0px 1px 2px rgba(60, 64, 67, 0.3), 0px 1px 3px 1px rgba(60, 64, 67, 0.15);\n",
              "      fill: #174EA6;\n",
              "    }\n",
              "\n",
              "    [theme=dark] .colab-df-convert {\n",
              "      background-color: #3B4455;\n",
              "      fill: #D2E3FC;\n",
              "    }\n",
              "\n",
              "    [theme=dark] .colab-df-convert:hover {\n",
              "      background-color: #434B5C;\n",
              "      box-shadow: 0px 1px 3px 1px rgba(0, 0, 0, 0.15);\n",
              "      filter: drop-shadow(0px 1px 2px rgba(0, 0, 0, 0.3));\n",
              "      fill: #FFFFFF;\n",
              "    }\n",
              "  </style>\n",
              "\n",
              "      <script>\n",
              "        const buttonEl =\n",
              "          document.querySelector('#df-5f891f1f-3ed8-4540-b8d3-72c74768c37b button.colab-df-convert');\n",
              "        buttonEl.style.display =\n",
              "          google.colab.kernel.accessAllowed ? 'block' : 'none';\n",
              "\n",
              "        async function convertToInteractive(key) {\n",
              "          const element = document.querySelector('#df-5f891f1f-3ed8-4540-b8d3-72c74768c37b');\n",
              "          const dataTable =\n",
              "            await google.colab.kernel.invokeFunction('convertToInteractive',\n",
              "                                                     [key], {});\n",
              "          if (!dataTable) return;\n",
              "\n",
              "          const docLinkHtml = 'Like what you see? Visit the ' +\n",
              "            '<a target=\"_blank\" href=https://colab.research.google.com/notebooks/data_table.ipynb>data table notebook</a>'\n",
              "            + ' to learn more about interactive tables.';\n",
              "          element.innerHTML = '';\n",
              "          dataTable['output_type'] = 'display_data';\n",
              "          await google.colab.output.renderOutput(dataTable, element);\n",
              "          const docLink = document.createElement('div');\n",
              "          docLink.innerHTML = docLinkHtml;\n",
              "          element.appendChild(docLink);\n",
              "        }\n",
              "      </script>\n",
              "    </div>\n",
              "  </div>\n",
              "  "
            ]
          },
          "metadata": {}
        }
      ],
      "source": [
        "train_data = pd.read_table('/content/drive/MyDrive/Colab Notebooks/ratings_train.txt')\n",
        "test_data = pd.read_table('/content/drive/MyDrive/Colab Notebooks/ratings_test.txt')\n",
        "\n",
        "display(train_data.sample(5))\n",
        "display(test_data.sample(5))"
      ]
    },
    {
      "cell_type": "markdown",
      "id": "still-sacramento",
      "metadata": {
        "id": "still-sacramento"
      },
      "source": [
        "#### 학습 데이터 출처\n",
        "***\n",
        "+ Lucy Park, Naver sentiment movie corpus(2015), https://github.com/e9t/nsmc/\n",
        "***"
      ]
    },
    {
      "cell_type": "markdown",
      "id": "front-feeling",
      "metadata": {
        "id": "front-feeling"
      },
      "source": [
        "<br>\n",
        "\n",
        "#### 데이터셋 기본 정보 확인\n",
        "***\n",
        "+ 학습 데이터 150,000개, 테스트 데이터 50,000개 입니다.\n",
        "\n",
        "\n",
        "+ 학습 데이터의 결측치 5개, 테스트 데이터 결측치 3개 입니다.\n",
        "\n",
        "\n",
        "+ 학습 데이터 중, 중복 데이터는 3,817개, 테스트 데이터 중, 중복 데이터는 842개 입니다.\n",
        "***"
      ]
    },
    {
      "cell_type": "code",
      "execution_count": null,
      "id": "concerned-fleet",
      "metadata": {
        "colab": {
          "base_uri": "https://localhost:8080/"
        },
        "id": "concerned-fleet",
        "outputId": "6fb87872-47ea-426c-c46c-7e2d7bee5fa3"
      },
      "outputs": [
        {
          "output_type": "stream",
          "name": "stdout",
          "text": [
            "<train data>\n",
            "**************************************************\n",
            "data len: 150000\n",
            "null data: 5\n",
            "duplicates data: 3817\n",
            "**************************************************\n",
            "\n",
            "<test data>\n",
            "**************************************************\n",
            "data len: 50000\n",
            "null data: 3\n",
            "duplicates data: 842\n",
            "**************************************************\n",
            "\n"
          ]
        }
      ],
      "source": [
        "def data_info(data, title):\n",
        "    print(f\"<{title}>\")\n",
        "    print(\"*\" * 50)\n",
        "    print(\"data len:\", len(data))\n",
        "    print(\"null data:\", data.isnull().sum())\n",
        "    print(\"duplicates data:\", len(data)-len(set(data)))\n",
        "    print(\"*\" * 50, end=\"\\n\\n\")\n",
        "\n",
        "\n",
        "data_info(train_data[\"document\"], \"train data\")\n",
        "data_info(test_data[\"document\"], \"test data\")"
      ]
    },
    {
      "cell_type": "markdown",
      "id": "cross-productivity",
      "metadata": {
        "id": "cross-productivity"
      },
      "source": [
        "<br>\n",
        "\n",
        "#### 문장 길이 시각화 함수 생성\n",
        "***\n",
        "+ 학습, 테스트 데이터의 문장 길이를 시각화 하기 위한 함수를 생성 합니다.\n",
        "***"
      ]
    },
    {
      "cell_type": "code",
      "execution_count": null,
      "id": "studied-program",
      "metadata": {
        "id": "studied-program"
      },
      "outputs": [],
      "source": [
        "#문장 길이 시각화 함수============================\n",
        "def draw_sentence_length(data, title):\n",
        "    min_len, max_len, sum_len = 999, 0, 0\n",
        "    \n",
        "    data = data.dropna()\n",
        "    cleaned_corpus = list(set(data))\n",
        "    \n",
        "    for sen in cleaned_corpus:\n",
        "        length = len(sen)\n",
        "        if min_len > length: min_len = length\n",
        "        if max_len < length: max_len = length\n",
        "        sum_len += length\n",
        "        \n",
        "    sentence_length = np.zeros((max_len), dtype=np.int)\n",
        "\n",
        "    for sen in cleaned_corpus:\n",
        "        sentence_length[len(sen)-1] += 1\n",
        "\n",
        "    plt.bar(range(max_len), sentence_length, width=1.0)\n",
        "    plt.title(title)\n",
        "    plt.show()\n",
        "    \n",
        "    print(\"*\" * 50)\n",
        "    print(\"Data Size:\", len(cleaned_corpus))\n",
        "    print(\"문장의 최단 길이:\", min_len)\n",
        "    print(\"문장의 최장 길이:\", max_len)\n",
        "    print(\"문장의 평균 길이:\", sum_len // len(cleaned_corpus))\n",
        "    print(\"*\" * 50)\n",
        "#End=============================================="
      ]
    },
    {
      "cell_type": "markdown",
      "id": "reserved-disorder",
      "metadata": {
        "id": "reserved-disorder"
      },
      "source": [
        "<br>\n",
        "\n",
        "#### 문장 길이 시각화\n",
        "***\n",
        "+ 학습 데이터의 최대 문장 길이는 최대 146개, 평균 35개의 단어로 이루어져 있습니다.\n",
        "\n",
        "\n",
        "+ 테스트 데이터의 최대 문장 길이는 최대 144개, 평균 35개의 단어로 이루어져 있습니다.\n",
        "***"
      ]
    },
    {
      "cell_type": "code",
      "execution_count": null,
      "id": "activated-translator",
      "metadata": {
        "id": "activated-translator",
        "colab": {
          "base_uri": "https://localhost:8080/",
          "height": 840
        },
        "outputId": "6572535d-99b5-4d11-a72d-23f994cffb08"
      },
      "outputs": [
        {
          "output_type": "stream",
          "name": "stderr",
          "text": [
            "/usr/local/lib/python3.7/dist-packages/ipykernel_launcher.py:14: DeprecationWarning: `np.int` is a deprecated alias for the builtin `int`. To silence this warning, use `int` by itself. Doing this will not modify any behavior and is safe. When replacing `np.int`, you may wish to use e.g. `np.int64` or `np.int32` to specify the precision. If you wish to review your current use, check the release note link for additional information.\n",
            "Deprecated in NumPy 1.20; for more details and guidance: https://numpy.org/devdocs/release/1.20.0-notes.html#deprecations\n",
            "  \n"
          ]
        },
        {
          "output_type": "display_data",
          "data": {
            "text/plain": [
              "<Figure size 432x288 with 1 Axes>"
            ],
            "image/png": "[encoded data removed]"
          },
          "metadata": {
            "needs_background": "light"
          }
        },
        {
          "output_type": "stream",
          "name": "stdout",
          "text": [
            "**************************************************\n",
            "Data Size: 146182\n",
            "문장의 최단 길이: 1\n",
            "문장의 최장 길이: 146\n",
            "문장의 평균 길이: 35\n",
            "**************************************************\n"
          ]
        },
        {
          "output_type": "display_data",
          "data": {
            "text/plain": [
              "<Figure size 432x288 with 1 Axes>"
            ],
            "image/png": "[encoded data removed]"
          },
          "metadata": {
            "needs_background": "light"
          }
        },
        {
          "output_type": "stream",
          "name": "stdout",
          "text": [
            "**************************************************\n",
            "Data Size: 49157\n",
            "문장의 최단 길이: 1\n",
            "문장의 최장 길이: 144\n",
            "문장의 평균 길이: 35\n",
            "**************************************************\n"
          ]
        }
      ],
      "source": [
        "draw_sentence_length(train_data[\"document\"], title=\"Train Data's Sentence Length Distribution\")\n",
        "draw_sentence_length(test_data[\"document\"], title=\"Test Data's Sentence Length Distribution\")"
      ]
    },
    {
      "cell_type": "markdown",
      "id": "occasional-investment",
      "metadata": {
        "id": "occasional-investment"
      },
      "source": [
        "<br>\n",
        "\n",
        "## 3. 데이터 전처리\n",
        "***\n",
        "<span style=\"font-size:12pt; line-height:1.7; font-family:Serif;\">\n",
        "    &nbsp; &nbsp; 데이터 분석 단계에서 확인한 결측치와 중복 데이터를 제거하여 줍니다. 또한, 단어가 최소 10개, 최대 120개로 이루어진 문장만 추출합니다.\n",
        "</span>\n",
        "\n",
        "***"
      ]
    },
    {
      "cell_type": "markdown",
      "id": "continental-branch",
      "metadata": {
        "id": "continental-branch"
      },
      "source": [
        "#### 결측치 및 중복 데이터 제거\n",
        "***\n",
        "+ 분석에서 확인한 결측치와 중복 데이터를 제거 합니다.\n",
        "***"
      ]
    },
    {
      "cell_type": "code",
      "execution_count": null,
      "id": "national-colorado",
      "metadata": {
        "id": "national-colorado"
      },
      "outputs": [],
      "source": [
        "train_data.dropna(inplace=True)\n",
        "test_data.dropna(inplace=True)\n",
        "\n",
        "train_data.drop_duplicates([\"document\"], inplace=True)\n",
        "test_data.drop_duplicates([\"document\"], inplace=True)"
      ]
    },
    {
      "cell_type": "markdown",
      "id": "consistent-substitute",
      "metadata": {
        "id": "consistent-substitute"
      },
      "source": [
        "<br>\n",
        "\n",
        "#### 문장 길이 정제 하기\n",
        "***\n",
        "+ 최소 길이 10, 최대 길이 120으로 설정하여 데이터의 문장 길이를 정제 합니다.\n",
        "***"
      ]
    },
    {
      "cell_type": "code",
      "execution_count": null,
      "id": "pleased-worthy",
      "metadata": {
        "id": "pleased-worthy"
      },
      "outputs": [],
      "source": [
        "#문장 길이 정제 함수=========================\n",
        "def filt_length(data, min_len, max_len):\n",
        "    df = train_data.copy()\n",
        "    df[\"length\"] = df[\"document\"].apply(lambda x: len(x))\n",
        "    \n",
        "    df = df.loc[df[\"length\"] >= min_len]\n",
        "    df = df.loc[df[\"length\"] <= max_len]\n",
        "    \n",
        "    df.drop([\"length\"], axis=\"columns\", inplace=True)\n",
        "    return df\n",
        "#End=========================================\n",
        "\n",
        "\n",
        "min_len, max_len = 10, 120\n",
        "\n",
        "train_data = filt_length(train_data, min_len=min_len, max_len=max_len)\n",
        "test_data = filt_length(test_data, min_len=min_len, max_len=max_len)\n",
        "\n",
        "y_train = np.array(train_data[\"label\"])\n",
        "y_test = np.array(test_data[\"label\"])"
      ]
    },
    {
      "cell_type": "markdown",
      "id": "crucial-function",
      "metadata": {
        "id": "crucial-function"
      },
      "source": [
        "<br>\n",
        "\n",
        "#### 문장 길이 시각화\n",
        "***\n",
        "+ 문장 길이 정제 후, 다시 시각화를 하여 이를 확인 합니다.\n",
        "\n",
        "\n",
        "+ 학습 데이터, 테스트 데이터 모두 문장이 최소 10개, 최대 120개의 단어로 이루어 진 것을 확인할 수 있습니다.\n",
        "***"
      ]
    },
    {
      "cell_type": "code",
      "execution_count": null,
      "id": "configured-cleaning",
      "metadata": {
        "id": "configured-cleaning",
        "colab": {
          "base_uri": "https://localhost:8080/",
          "height": 840
        },
        "outputId": "1b828035-ba77-47fc-b194-1dd804d57f76"
      },
      "outputs": [
        {
          "output_type": "stream",
          "name": "stderr",
          "text": [
            "/usr/local/lib/python3.7/dist-packages/ipykernel_launcher.py:14: DeprecationWarning: `np.int` is a deprecated alias for the builtin `int`. To silence this warning, use `int` by itself. Doing this will not modify any behavior and is safe. When replacing `np.int`, you may wish to use e.g. `np.int64` or `np.int32` to specify the precision. If you wish to review your current use, check the release note link for additional information.\n",
            "Deprecated in NumPy 1.20; for more details and guidance: https://numpy.org/devdocs/release/1.20.0-notes.html#deprecations\n",
            "  \n"
          ]
        },
        {
          "output_type": "display_data",
          "data": {
            "text/plain": [
              "<Figure size 432x288 with 1 Axes>"
            ],
            "image/png": "[encoded data removed]"
          },
          "metadata": {
            "needs_background": "light"
          }
        },
        {
          "output_type": "stream",
          "name": "stdout",
          "text": [
            "**************************************************\n",
            "Data Size: 130725\n",
            "문장의 최단 길이: 10\n",
            "문장의 최장 길이: 120\n",
            "문장의 평균 길이: 34\n",
            "**************************************************\n"
          ]
        },
        {
          "output_type": "display_data",
          "data": {
            "text/plain": [
              "<Figure size 432x288 with 1 Axes>"
            ],
            "image/png": "[encoded data removed]"
          },
          "metadata": {
            "needs_background": "light"
          }
        },
        {
          "output_type": "stream",
          "name": "stdout",
          "text": [
            "**************************************************\n",
            "Data Size: 130725\n",
            "문장의 최단 길이: 10\n",
            "문장의 최장 길이: 120\n",
            "문장의 평균 길이: 34\n",
            "**************************************************\n"
          ]
        }
      ],
      "source": [
        "draw_sentence_length(train_data[\"document\"], title=\"Train Data's Sentence Length Distribution\")\n",
        "draw_sentence_length(test_data[\"document\"], title=\"Test Data's Sentence Length Distribution\")"
      ]
    },
    {
      "cell_type": "markdown",
      "id": "national-publisher",
      "metadata": {
        "id": "national-publisher"
      },
      "source": [
        "<br>\n",
        "\n",
        "## 4. 토크나이저 별 토큰화\n",
        "***\n",
        "<span style=\"font-size:12pt; line-height:1.7; font-family:Serif;\">\n",
        "    &nbsp; &nbsp; 본 예제는 토큰화 방법에 따른 성능 변화를 관찰하는 것이 목적입니다. 따라서, '공백 기반', '형태소 기반', 'SentencePiece 기반', 총 세 개의 토큰화 기법을 이용하여 성능을 비교하고자 합니다.\n",
        "</span>\n",
        "\n",
        "***"
      ]
    },
    {
      "cell_type": "markdown",
      "id": "internal-chicago",
      "metadata": {
        "id": "internal-chicago"
      },
      "source": [
        "### 4.1. 공백 기반 토큰화\n",
        "***\n",
        "<span style=\"font-size:12pt; line-height:1.7; font-family:Serif;\">\n",
        "    &nbsp; &nbsp; 공백을 기준으로 토큰화를 진행합니다. 패딩 시, 문장의 길이는 120으로 설정 합니다. 공백 기반 토큰화 결과, 총 308,447개의 토큰이 등록되었습니다.\n",
        "</span>\n",
        "\n",
        "***"
      ]
    },
    {
      "cell_type": "markdown",
      "id": "surgical-serial",
      "metadata": {
        "id": "surgical-serial"
      },
      "source": [
        "#### 공백 기반 토큰화 실시\n",
        "***\n",
        "+ 공백을 기준으로 토큰화를 실시 합니다.\n",
        "***"
      ]
    },
    {
      "cell_type": "code",
      "execution_count": null,
      "id": "suitable-distribution",
      "metadata": {
        "id": "suitable-distribution"
      },
      "outputs": [],
      "source": [
        "tokenizer = tf.keras.preprocessing.text.Tokenizer(filters='')\n",
        "\n",
        "def get_split_tokenize(data):\n",
        "    mecab_corpus = []\n",
        "    \n",
        "    for sentence in data:\n",
        "        mecab_corpus.append(sentence.split())\n",
        "\n",
        "    tokenizer.fit_on_texts(mecab_corpus)\n",
        "    mecab_tensor = tokenizer.texts_to_sequences(mecab_corpus)\n",
        "    mecab_tensor = tf.keras.preprocessing.sequence.pad_sequences(mecab_tensor, padding='post', maxlen=max_len)\n",
        "    return mecab_tensor"
      ]
    },
    {
      "cell_type": "markdown",
      "id": "cordless-productivity",
      "metadata": {
        "id": "cordless-productivity"
      },
      "source": [
        "<br>\n",
        "\n",
        "#### 단어 사전 크기 확인\n",
        "***\n",
        "+ 공백을 기반으로 토큰화를 진행한 결과, 총 308,447개의 토큰이 등록 되었습니다.\n",
        "***"
      ]
    },
    {
      "cell_type": "code",
      "execution_count": null,
      "id": "detected-invention",
      "metadata": {
        "id": "detected-invention",
        "colab": {
          "base_uri": "https://localhost:8080/"
        },
        "outputId": "4d4e6de7-4e88-42f1-f91b-e31fd5961a65"
      },
      "outputs": [
        {
          "output_type": "stream",
          "name": "stdout",
          "text": [
            "**************************************************\n",
            "vocab size 308446\n",
            "**************************************************\n"
          ]
        }
      ],
      "source": [
        "X_train = get_split_tokenize(train_data[\"document\"])\n",
        "split_X_test = get_split_tokenize(test_data[\"document\"])\n",
        "\n",
        "print(\"*\" * 50)\n",
        "print(\"vocab size\", len(tokenizer.word_index))\n",
        "print(\"*\" * 50)"
      ]
    },
    {
      "cell_type": "markdown",
      "id": "defined-stretch",
      "metadata": {
        "id": "defined-stretch"
      },
      "source": [
        "<br>\n",
        "\n",
        "#### 데이터 분할 하기\n",
        "***\n",
        "+ 학습 데이터와 검증 데이터를 0.2의 비율로 분할 합니다.\n",
        "***"
      ]
    },
    {
      "cell_type": "code",
      "execution_count": null,
      "id": "superb-county",
      "metadata": {
        "id": "superb-county"
      },
      "outputs": [],
      "source": [
        "split_train_input, split_val_input, split_train_target, split_val_target = \\\n",
        "    train_test_split(X_train, y_train, test_size=0.2, random_state=2021)"
      ]
    },
    {
      "cell_type": "markdown",
      "id": "ranging-trigger",
      "metadata": {
        "id": "ranging-trigger"
      },
      "source": [
        "<br>\n",
        "\n",
        "### 4.2. 형태소 기반 토큰화\n",
        "***\n",
        "<span style=\"font-size:12pt; line-height:1.7; font-family:Serif;\">\n",
        "    &nbsp; &nbsp; 형태소를 기준으로 토큰화를 진행합니다. 패딩 시, 문장의 길이는 120으로 설정 합니다. 형태소 기반 토큰화 결과, 총 49,059개의 토큰이 등록되었습니다.\n",
        "</span>\n",
        "\n",
        "***"
      ]
    },
    {
      "cell_type": "markdown",
      "id": "internal-constraint",
      "metadata": {
        "id": "internal-constraint"
      },
      "source": [
        "#### 형태소 기반 토큰화 실시\n",
        "***\n",
        "+ Mecab을 이용하여, 형태소를 기준으로 토큰화를 실시 합니다.\n",
        "***"
      ]
    },
    {
      "cell_type": "code",
      "execution_count": null,
      "id": "unexpected-vertex",
      "metadata": {
        "id": "unexpected-vertex"
      },
      "outputs": [],
      "source": [
        "tokenizer = tf.keras.preprocessing.text.Tokenizer(filters='')\n",
        "m = Mecab()\n",
        "\n",
        "def get_mecab_tokenize(data):\n",
        "    mecab_corpus = []\n",
        "    \n",
        "    for sentence in data:\n",
        "        mecab_corpus.append(m.morphs(sentence))\n",
        "\n",
        "    tokenizer.fit_on_texts(mecab_corpus)\n",
        "    mecab_tensor = tokenizer.texts_to_sequences(mecab_corpus)\n",
        "    mecab_tensor = tf.keras.preprocessing.sequence.pad_sequences(mecab_tensor, padding='post', maxlen=max_len)\n",
        "    return mecab_tensor"
      ]
    },
    {
      "cell_type": "markdown",
      "id": "professional-waterproof",
      "metadata": {
        "id": "professional-waterproof"
      },
      "source": [
        "<br>\n",
        "\n",
        "#### 단어 사전 크기 확인\n",
        "***\n",
        "+ 형태소를 기반으로 토큰화를 진행한 결과, 총 49,059개의 토큰이 등록 되었습니다.\n",
        "***"
      ]
    },
    {
      "cell_type": "code",
      "execution_count": null,
      "id": "fifteen-development",
      "metadata": {
        "id": "fifteen-development",
        "colab": {
          "base_uri": "https://localhost:8080/"
        },
        "outputId": "0e7b3c73-4a5f-4211-aedb-ab19eb84ae8c"
      },
      "outputs": [
        {
          "output_type": "stream",
          "name": "stdout",
          "text": [
            "**************************************************\n",
            "vocab size 49059\n",
            "**************************************************\n"
          ]
        }
      ],
      "source": [
        "X_train = get_mecab_tokenize(train_data[\"document\"])\n",
        "mecab_X_test = get_mecab_tokenize(test_data[\"document\"])\n",
        "\n",
        "print(\"*\" * 50)\n",
        "print(\"vocab size\", len(tokenizer.word_index))\n",
        "print(\"*\" * 50)"
      ]
    },
    {
      "cell_type": "markdown",
      "id": "measured-playback",
      "metadata": {
        "id": "measured-playback"
      },
      "source": [
        "<br>\n",
        "\n",
        "#### 데이터 분할 하기\n",
        "***\n",
        "+ 학습 데이터와 검증 데이터를 0.2의 비율로 분할 합니다.\n",
        "***"
      ]
    },
    {
      "cell_type": "code",
      "execution_count": null,
      "id": "accepted-title",
      "metadata": {
        "id": "accepted-title"
      },
      "outputs": [],
      "source": [
        "mecab_train_input, mecab_val_input, mecab_train_target, mecab_val_target = \\\n",
        "    train_test_split(X_train, y_train, test_size=0.2, random_state=2021)"
      ]
    },
    {
      "cell_type": "markdown",
      "id": "quarterly-thread",
      "metadata": {
        "id": "quarterly-thread"
      },
      "source": [
        "<br>\n",
        "\n",
        "### 4.2. SentencePiece 기반 토큰화\n",
        "***\n",
        "<span style=\"font-size:12pt; line-height:1.7; font-family:Serif;\">\n",
        "    &nbsp; &nbsp; SentencePiece를 기준으로 토큰화를 진행합니다. 우선, 학습 데이터를 이용하여 SentencePiece를 학습 한 후, 이를 바탕으로 토큰화를 진행합니다. 단어 사전의 크기는 8,000으로 설정하였습니다. 마찬가지로 패딩 시, 문장의 길이는 120으로 설정 합니다.\n",
        "</span>\n",
        "\n",
        "***"
      ]
    },
    {
      "cell_type": "markdown",
      "id": "resident-despite",
      "metadata": {
        "id": "resident-despite"
      },
      "source": [
        "#### SentencePiece 학습 및 저장 하기\n",
        "***\n",
        "+ 학습 데이터를 이용하여 SentencePiece를 학습하고 이를 저장합니다.\n",
        "\n",
        "\n",
        "+ 단어 사전의 크기는 8,000으로 설정 합니다.\n",
        "***"
      ]
    },
    {
      "cell_type": "code",
      "execution_count": null,
      "id": "formed-boston",
      "metadata": {
        "id": "formed-boston"
      },
      "outputs": [],
      "source": [
        "vocab_size = 8000\n",
        "temp_file = '/content/drive/MyDrive/korean-english-park.train.ko.temp'\n",
        "\n",
        "with open(temp_file, 'w') as f:\n",
        "    for row in list(train_data[\"document\"]):   # 이전 스텝에서 정제했던 corpus를 활용합니다.\n",
        "        f.write(str(row) + '\\n')\n",
        "\n",
        "      \n",
        "\n",
        "spm.SentencePieceTrainer.Train(\n",
        "    '--input={} --model_prefix=korean_spm --vocab_size={}'.format(temp_file, vocab_size)    \n",
        ")\n"
      ]
    },
    {
      "cell_type": "markdown",
      "id": "planned-circulation",
      "metadata": {
        "id": "planned-circulation"
      },
      "source": [
        "<br>\n",
        "\n",
        "#### SentencePiece 토큰화 함수 생성\n",
        "***\n",
        "+ SentencePiece를 이용하여 토큰화 하는 함수를 생성 합니다.\n",
        "***"
      ]
    },
    {
      "cell_type": "code",
      "execution_count": null,
      "id": "positive-project",
      "metadata": {
        "id": "positive-project"
      },
      "outputs": [],
      "source": [
        "def sp_tokenize(s, corpus):\n",
        "    tensor = []\n",
        "\n",
        "    for sen in corpus:\n",
        "        tensor.append(s.EncodeAsIds(sen))\n",
        "\n",
        "    with open(\"./korean_spm.vocab\", 'r') as f:\n",
        "        vocab = f.readlines()\n",
        "\n",
        "    word_index = {}\n",
        "    index_word = {}\n",
        "\n",
        "    for idx, line in enumerate(vocab):\n",
        "        word = line.split(\"\\t\")[0]\n",
        "\n",
        "        word_index.update({idx:word})\n",
        "        index_word.update({word:idx})\n",
        "\n",
        "    tensor = tf.keras.preprocessing.sequence.pad_sequences(tensor, padding='post', maxlen=max_len)\n",
        "\n",
        "    return tensor, word_index, index_word"
      ]
    },
    {
      "cell_type": "markdown",
      "id": "mighty-haiti",
      "metadata": {
        "id": "mighty-haiti"
      },
      "source": [
        "<br>\n",
        "\n",
        "#### SentencePiece 토큰화 및 데이터 분할\n",
        "***\n",
        "+ SentencePiece를 이용하여 토큰화를 실시 합니다.\n",
        "\n",
        "\n",
        "+ 학습 데이터와 검증 데이터를 0.2의 비율로 분할 합니다.\n",
        "***"
      ]
    },
    {
      "cell_type": "code",
      "execution_count": null,
      "id": "single-neutral",
      "metadata": {
        "id": "single-neutral"
      },
      "outputs": [],
      "source": [
        "s = spm.SentencePieceProcessor()\n",
        "s.Load('korean_spm.model')\n",
        "\n",
        "X_train, X_train_word_index, X_train_index_word = sp_tokenize(s, train_data['document'])\n",
        "sp_X_test, X_test_word_index, X_test_index_word = sp_tokenize(s, test_data['document'])\n",
        "\n",
        "sp_train_input, sp_val_input, sp_train_target, sp_val_target = \\\n",
        "    train_test_split(X_train, y_train, test_size=0.2, random_state=2021)"
      ]
    },
    {
      "cell_type": "markdown",
      "id": "level-cleaning",
      "metadata": {
        "id": "level-cleaning"
      },
      "source": [
        "<br>\n",
        "\n",
        "## 5. 모델 설계 및 학습\n",
        "***\n"
      ]
    },
    {
      "cell_type": "markdown",
      "id": "bacterial-clothing",
      "metadata": {
        "id": "bacterial-clothing"
      },
      "source": [
        "#### 모델 생성 및 옵티마이저 설정 함수 생성\n",
        "***\n",
        "+ 토크나이저 별 데이터를 학습하기 위한 모델을 생성 합니다.\n",
        "\n",
        "\n",
        "+ 모델은 1D Convolution 레이어를 사용하고 옵티마이저는 'Adam'을 사용 합니다.\n",
        "***"
      ]
    },
    {
      "cell_type": "code",
      "execution_count": null,
      "id": "cardiovascular-eleven",
      "metadata": {
        "id": "cardiovascular-eleven"
      },
      "outputs": [],
      "source": [
        "def get_model(vocab_size):\n",
        "    model_1d = tf.keras.Sequential()\n",
        "    model_1d.add(tf.keras.layers.Embedding(vocab_size, 16, input_shape=(None,)))\n",
        "    model_1d.add(tf.keras.layers.Conv1D(16, 7, activation='relu'))\n",
        "    model_1d.add(tf.keras.layers.MaxPooling1D(5))\n",
        "    model_1d.add(tf.keras.layers.Conv1D(16, 7, activation='relu'))\n",
        "    model_1d.add(tf.keras.layers.GlobalMaxPooling1D())\n",
        "    model_1d.add(tf.keras.layers.Dense(8, activation='tanh'))\n",
        "    model_1d.add(tf.keras.layers.Dense(1, activation='sigmoid'))  # 최종 출력은 긍정/부정을 나타내는 1dim 입니다.\n",
        "    \n",
        "    model_1d.compile(optimizer='adam', loss='binary_crossentropy', metrics=['accuracy'])\n",
        "    return model_1d"
      ]
    },
    {
      "cell_type": "markdown",
      "id": "congressional-adelaide",
      "metadata": {
        "id": "congressional-adelaide"
      },
      "source": [
        "<br>\n",
        "\n",
        "#### 공백 기반 토크나이저 모델 학습\n",
        "***\n"
      ]
    },
    {
      "cell_type": "code",
      "execution_count": null,
      "id": "ready-fisher",
      "metadata": {
        "id": "ready-fisher",
        "colab": {
          "base_uri": "https://localhost:8080/"
        },
        "outputId": "c16ceb2c-0934-4fae-b797-5b0fd928d6a2"
      },
      "outputs": [
        {
          "output_type": "stream",
          "name": "stdout",
          "text": [
            "Epoch 1/10\n",
            "3269/3269 [==============================] - 275s 84ms/step - loss: 0.4811 - accuracy: 0.7480 - val_loss: 0.4250 - val_accuracy: 0.7931\n",
            "Epoch 2/10\n",
            "3269/3269 [==============================] - 270s 83ms/step - loss: 0.1365 - accuracy: 0.9526 - val_loss: 0.5356 - val_accuracy: 0.7762\n",
            "Epoch 3/10\n",
            "3269/3269 [==============================] - 265s 81ms/step - loss: 0.0247 - accuracy: 0.9930 - val_loss: 0.7025 - val_accuracy: 0.7681\n",
            "Epoch 4/10\n",
            "3269/3269 [==============================] - 250s 76ms/step - loss: 0.0078 - accuracy: 0.9979 - val_loss: 0.8310 - val_accuracy: 0.7688\n",
            "Epoch 5/10\n",
            "3269/3269 [==============================] - 225s 69ms/step - loss: 0.0031 - accuracy: 0.9991 - val_loss: 1.0307 - val_accuracy: 0.7619\n",
            "Epoch 6/10\n",
            "3269/3269 [==============================] - 216s 66ms/step - loss: 0.0017 - accuracy: 0.9996 - val_loss: 1.1474 - val_accuracy: 0.7715\n",
            "Epoch 7/10\n",
            "3269/3269 [==============================] - 215s 66ms/step - loss: 0.0012 - accuracy: 0.9996 - val_loss: 1.1529 - val_accuracy: 0.7676\n",
            "Epoch 8/10\n",
            "3269/3269 [==============================] - 220s 67ms/step - loss: 5.3805e-04 - accuracy: 0.9998 - val_loss: 1.3412 - val_accuracy: 0.7637\n",
            "Epoch 9/10\n",
            "3269/3269 [==============================] - 225s 69ms/step - loss: 3.0867e-04 - accuracy: 0.9999 - val_loss: 1.3939 - val_accuracy: 0.7635\n",
            "Epoch 10/10\n",
            "3269/3269 [==============================] - 220s 67ms/step - loss: 4.3747e-04 - accuracy: 0.9999 - val_loss: 1.4883 - val_accuracy: 0.7522\n"
          ]
        },
        {
          "output_type": "execute_result",
          "data": {
            "text/plain": [
              "<keras.callbacks.History at 0x7f5c81f2a150>"
            ]
          },
          "metadata": {},
          "execution_count": 51
        }
      ],
      "source": [
        "split_model = get_model(308447)\n",
        "split_model.fit(\n",
        "    split_train_input, split_train_target, epochs=10, validation_data=(split_val_input, split_val_target)\n",
        ")"
      ]
    },
    {
      "cell_type": "markdown",
      "id": "unsigned-belize",
      "metadata": {
        "id": "unsigned-belize"
      },
      "source": [
        "<br>\n",
        "\n",
        "#### 형태소 기반 토크나이저 모델 학습\n",
        "***"
      ]
    },
    {
      "cell_type": "code",
      "execution_count": null,
      "id": "stuffed-vaccine",
      "metadata": {
        "id": "stuffed-vaccine",
        "colab": {
          "base_uri": "https://localhost:8080/"
        },
        "outputId": "3308a96b-1ad5-41a0-e543-6e5184d97a0e"
      },
      "outputs": [
        {
          "output_type": "stream",
          "name": "stdout",
          "text": [
            "Epoch 1/10\n",
            "3269/3269 [==============================] - 63s 19ms/step - loss: 0.3799 - accuracy: 0.8249 - val_loss: 0.3323 - val_accuracy: 0.8574\n",
            "Epoch 2/10\n",
            "3269/3269 [==============================] - 60s 18ms/step - loss: 0.2572 - accuracy: 0.8967 - val_loss: 0.3362 - val_accuracy: 0.8574\n",
            "Epoch 3/10\n",
            "3269/3269 [==============================] - 60s 18ms/step - loss: 0.1818 - accuracy: 0.9306 - val_loss: 0.3666 - val_accuracy: 0.8538\n",
            "Epoch 4/10\n",
            "3269/3269 [==============================] - 60s 18ms/step - loss: 0.1239 - accuracy: 0.9559 - val_loss: 0.4283 - val_accuracy: 0.8474\n",
            "Epoch 5/10\n",
            "3269/3269 [==============================] - 61s 19ms/step - loss: 0.0881 - accuracy: 0.9698 - val_loss: 0.4849 - val_accuracy: 0.8416\n",
            "Epoch 6/10\n",
            "3269/3269 [==============================] - 61s 19ms/step - loss: 0.0654 - accuracy: 0.9783 - val_loss: 0.5444 - val_accuracy: 0.8374\n",
            "Epoch 7/10\n",
            "3269/3269 [==============================] - 63s 19ms/step - loss: 0.0504 - accuracy: 0.9833 - val_loss: 0.6155 - val_accuracy: 0.8326\n",
            "Epoch 8/10\n",
            "3269/3269 [==============================] - 61s 19ms/step - loss: 0.0408 - accuracy: 0.9865 - val_loss: 0.6711 - val_accuracy: 0.8275\n",
            "Epoch 9/10\n",
            "3269/3269 [==============================] - 61s 19ms/step - loss: 0.0335 - accuracy: 0.9895 - val_loss: 0.7111 - val_accuracy: 0.8304\n",
            "Epoch 10/10\n",
            "3269/3269 [==============================] - 61s 19ms/step - loss: 0.0284 - accuracy: 0.9910 - val_loss: 0.7686 - val_accuracy: 0.8271\n"
          ]
        },
        {
          "output_type": "execute_result",
          "data": {
            "text/plain": [
              "<keras.callbacks.History at 0x7f5c8161b650>"
            ]
          },
          "metadata": {},
          "execution_count": 52
        }
      ],
      "source": [
        "mecab_model = get_model(49060)\n",
        "mecab_model.fit(\n",
        "    mecab_train_input, mecab_train_target, epochs=10, validation_data=(mecab_val_input, mecab_val_target)\n",
        ")"
      ]
    },
    {
      "cell_type": "markdown",
      "id": "packed-merchant",
      "metadata": {
        "id": "packed-merchant"
      },
      "source": [
        "<br>\n",
        "\n",
        "#### SentencePiece 기반 토크나이저 모델 학습\n",
        "***\n"
      ]
    },
    {
      "cell_type": "code",
      "execution_count": null,
      "id": "basic-point",
      "metadata": {
        "id": "basic-point",
        "colab": {
          "base_uri": "https://localhost:8080/"
        },
        "outputId": "ca61a343-542a-4319-eb37-bbdc4efa15d5"
      },
      "outputs": [
        {
          "output_type": "stream",
          "name": "stdout",
          "text": [
            "Epoch 1/10\n",
            "3269/3269 [==============================] - 41s 12ms/step - loss: 0.3950 - accuracy: 0.8151 - val_loss: 0.3442 - val_accuracy: 0.8493\n",
            "Epoch 2/10\n",
            "3269/3269 [==============================] - 39s 12ms/step - loss: 0.2902 - accuracy: 0.8778 - val_loss: 0.3464 - val_accuracy: 0.8503\n",
            "Epoch 3/10\n",
            "3269/3269 [==============================] - 39s 12ms/step - loss: 0.2296 - accuracy: 0.9091 - val_loss: 0.3728 - val_accuracy: 0.8478\n",
            "Epoch 4/10\n",
            "3269/3269 [==============================] - 39s 12ms/step - loss: 0.1656 - accuracy: 0.9384 - val_loss: 0.4172 - val_accuracy: 0.8363\n",
            "Epoch 5/10\n",
            "3269/3269 [==============================] - 40s 12ms/step - loss: 0.1123 - accuracy: 0.9606 - val_loss: 0.4987 - val_accuracy: 0.8309\n",
            "Epoch 6/10\n",
            "3269/3269 [==============================] - 42s 13ms/step - loss: 0.0774 - accuracy: 0.9742 - val_loss: 0.5896 - val_accuracy: 0.8286\n",
            "Epoch 7/10\n",
            "3269/3269 [==============================] - 40s 12ms/step - loss: 0.0577 - accuracy: 0.9810 - val_loss: 0.6797 - val_accuracy: 0.8284\n",
            "Epoch 8/10\n",
            "3269/3269 [==============================] - 40s 12ms/step - loss: 0.0453 - accuracy: 0.9855 - val_loss: 0.7378 - val_accuracy: 0.8231\n",
            "Epoch 9/10\n",
            "3269/3269 [==============================] - 39s 12ms/step - loss: 0.0360 - accuracy: 0.9887 - val_loss: 0.8013 - val_accuracy: 0.8224\n",
            "Epoch 10/10\n",
            "3269/3269 [==============================] - 39s 12ms/step - loss: 0.0313 - accuracy: 0.9901 - val_loss: 0.8272 - val_accuracy: 0.8179\n"
          ]
        },
        {
          "output_type": "execute_result",
          "data": {
            "text/plain": [
              "<keras.callbacks.History at 0x7f5c6cbb7b10>"
            ]
          },
          "metadata": {},
          "execution_count": 53
        }
      ],
      "source": [
        "sp_model = get_model(8000)\n",
        "sp_model.fit(sp_train_input, sp_train_target, epochs=10, validation_data=(sp_val_input, sp_val_target))"
      ]
    },
    {
      "cell_type": "markdown",
      "id": "capable-fusion",
      "metadata": {
        "id": "capable-fusion"
      },
      "source": [
        "<br>\n",
        "\n",
        "## 6. 모델 평가\n",
        "***\n"
      ]
    },
    {
      "cell_type": "markdown",
      "id": "random-kingdom",
      "metadata": {
        "id": "random-kingdom"
      },
      "source": [
        "#### 공백 기반 토크나이저 모델\n",
        "***\n"
      ]
    },
    {
      "cell_type": "code",
      "execution_count": null,
      "id": "amazing-station",
      "metadata": {
        "id": "amazing-station",
        "colab": {
          "base_uri": "https://localhost:8080/"
        },
        "outputId": "a36ce9e4-1495-4964-8ff4-e0bd928422b0"
      },
      "outputs": [
        {
          "output_type": "stream",
          "name": "stdout",
          "text": [
            "4086/4086 [==============================] - 14s 3ms/step - loss: 0.2980 - accuracy: 0.9503\n"
          ]
        },
        {
          "output_type": "execute_result",
          "data": {
            "text/plain": [
              "[0.2980462610721588, 0.9502849578857422]"
            ]
          },
          "metadata": {},
          "execution_count": 54
        }
      ],
      "source": [
        "split_model.evaluate(split_X_test, y_test)"
      ]
    },
    {
      "cell_type": "markdown",
      "id": "broken-vault",
      "metadata": {
        "id": "broken-vault"
      },
      "source": [
        "<br>\n",
        "\n",
        "#### 형태소 기반 토크나이저 모델\n",
        "***"
      ]
    },
    {
      "cell_type": "code",
      "execution_count": null,
      "id": "velvet-coalition",
      "metadata": {
        "id": "velvet-coalition",
        "colab": {
          "base_uri": "https://localhost:8080/"
        },
        "outputId": "c8fa0f85-c073-4890-999c-d9aa14363791"
      },
      "outputs": [
        {
          "output_type": "stream",
          "name": "stdout",
          "text": [
            "4086/4086 [==============================] - 14s 3ms/step - loss: 0.1678 - accuracy: 0.9615\n"
          ]
        },
        {
          "output_type": "execute_result",
          "data": {
            "text/plain": [
              "[0.16778762638568878, 0.9615146517753601]"
            ]
          },
          "metadata": {},
          "execution_count": 55
        }
      ],
      "source": [
        "mecab_model.evaluate(mecab_X_test, y_test)"
      ]
    },
    {
      "cell_type": "markdown",
      "id": "inappropriate-boards",
      "metadata": {
        "id": "inappropriate-boards"
      },
      "source": [
        "<br>\n",
        "\n",
        "#### 형태소 기반 토크나이저 모델\n",
        "***"
      ]
    },
    {
      "cell_type": "code",
      "execution_count": null,
      "id": "desirable-vermont",
      "metadata": {
        "id": "desirable-vermont",
        "colab": {
          "base_uri": "https://localhost:8080/"
        },
        "outputId": "bbb4e522-5395-4270-99cb-baca5bdb8d41"
      },
      "outputs": [
        {
          "output_type": "stream",
          "name": "stdout",
          "text": [
            "4086/4086 [==============================] - 14s 3ms/step - loss: 0.1813 - accuracy: 0.9590\n"
          ]
        },
        {
          "output_type": "execute_result",
          "data": {
            "text/plain": [
              "[0.18127737939357758, 0.9590208530426025]"
            ]
          },
          "metadata": {},
          "execution_count": 56
        }
      ],
      "source": [
        "sp_model.evaluate(sp_X_test, y_test)"
      ]
    },
    {
      "cell_type": "markdown",
      "id": "classical-dialogue",
      "metadata": {
        "id": "classical-dialogue"
      },
      "source": [
        "<br>\n",
        "\n",
        "## 6. 결론\n",
        "***\n",
        "<span style=\"font-size:12pt; line-height:1.7; font-family:Serif;\">\n",
        "    &nbsp; &nbsp; 토큰 기법에 따른 모델의 성능 비교를 위해, 네이버 영화 리뷰 문장 데이터를 사용하여, 긍, 부정 분석을 진행했다. 토큰 기법은 '공백 기준', '형태소 기준', 'SentencePiece 기준'으로 구분하여 비교 한다.\n",
        "</span><br><br>\n",
        "    \n",
        "<span style=\"font-size:12pt; line-height:1.7; font-family:Serif;\">\n",
        "    &nbsp; &nbsp; 공백 기준 토큰화 기법의 경우, '책이', '책을'과 같이 동일한 의미의 명사임에도 불구하고 개별적인 토큰으로 인식하기 때문에 단어사전의 크기가 커진다. 이로인해, 가장 많은 시간이 소요 됐다. 또한 손실값과 정확도도 다른 토크나이저 모델에 비해 가장 좋지않은 성능을 보였다.\n",
        "</span><br><br>"
      ]
    }
  ],
  "metadata": {
    "kernelspec": {
      "display_name": "Python 3",
      "language": "python",
      "name": "python3"
    },
    "language_info": {
      "codemirror_mode": {
        "name": "ipython",
        "version": 3
      },
      "file_extension": ".py",
      "mimetype": "text/x-python",
      "name": "python",
      "nbconvert_exporter": "python",
      "pygments_lexer": "ipython3",
      "version": "3.7.9"
    },
    "colab": {
      "name": "[GD-02]spm.ipynb",
      "provenance": [],
      "collapsed_sections": [
        "continental-branch",
        "consistent-substitute",
        "crucial-function",
        "surgical-serial",
        "cordless-productivity",
        "defined-stretch",
        "internal-constraint",
        "professional-waterproof",
        "measured-playback",
        "resident-despite",
        "planned-circulation",
        "mighty-haiti",
        "bacterial-clothing",
        "random-kingdom"
      ]
    }
  },
  "nbformat": 4,
  "nbformat_minor": 5
}